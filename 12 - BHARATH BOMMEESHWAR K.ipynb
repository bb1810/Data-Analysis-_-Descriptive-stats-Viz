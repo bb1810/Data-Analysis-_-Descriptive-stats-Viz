{
 "cells": [
  {
   "cell_type": "markdown",
   "id": "f4de2ff3",
   "metadata": {},
   "source": [
    "## D22012- BHARATH BOMMEESHWAR KUMAR"
   ]
  },
  {
   "cell_type": "markdown",
   "id": "388fa4ef",
   "metadata": {},
   "source": [
    "  "
   ]
  },
  {
   "cell_type": "markdown",
   "id": "24fd47ef",
   "metadata": {},
   "source": [
    " <span style = \"color:black\"> ------------------------------------------------------------------------------------------------------------------------------------------------------------------------------------------------------------------</span> "
   ]
  },
  {
   "cell_type": "markdown",
   "id": "45b0583c",
   "metadata": {},
   "source": [
    " ##                      <u><span style = \"color:GREEN\"> 1.DATA,VARIABLES,MEASUREMENTS AND SCALES </span></u>\n"
   ]
  },
  {
   "cell_type": "markdown",
   "id": "6e1b8bee",
   "metadata": {},
   "source": [
    "\n",
    "<u><span style = \"color:GREEN\"> DATA </span></u>:A data can be defined as a discrete units of information together for reference or analysis which may contain quality,quantity,facts and statistics of an entity.  \n",
    "\n",
    "Data can be:   \n",
    "        ----> <span style = \"color:Magenta\"> Structured </span>                              \n",
    "        ----> <span style = \"color:magenta\"> Unstructured </span> \n",
    "                                                                                                                                  \n",
    "\n",
    "<u><span style = \"color:DARK VIOLET\"> Structured Data</span></u>: Data described in a tabular format consisting of rows and columns.\n",
    "Eg:Organised Data in a Excel sheet,..  \n",
    "\n",
    "<u><span style = \"color:DARK VIOLET\"> Unstructured Data</span></u>: Any data which is not in tabular format is considered unstructured.\n",
    "Eg:Emails,...  \n",
    "\n",
    "\n",
    "\n",
    "<u><span style = \"color:GREEN\"> VARIABLES</span></u>:It can be defined as attribute of an entity that is valuable to business.Variable are usually columns in a tabular dataset.\n",
    "\n",
    "Variables can be classified into:\n",
    "\n",
    "---->1.<u><span style = \"color:BLUE\"> Categorical Variables</span></u>: \n",
    "\n",
    "         - They are qualitative  \n",
    "         - These variables takes categories as their values.  \n",
    "         - They can be Nominal or Ordinal.  \n",
    "           Nominal variable: Nominal data is classified without a natural order or rank.  \n",
    "           Eg: EyeColor of students in a class,.. \n",
    "           Ordinal variable: Ordinal data has predetermined or natural rank.  \n",
    "           Eg: Low-Medium-High,..\n",
    "         \n",
    "---->2.<u><span style = \"color:BLUE\"> Numerical Variables</span></u>: \n",
    "\n",
    "          - They are quantitative.  \n",
    "          - These variable have values that represents counts or measured quantity.  \n",
    "          - They can be discret or continuous.  \n",
    "            Discrete Variable: It has data that arise from a counting process or is finite number.  \n",
    "            Eg: Wickets taken by a bowler in a match,..\n",
    "            Continuous Variable:  This arise from a measuring process and has infinitely many possible values.  \n",
    "            Eg: Speed of a car,..\n",
    "         \n",
    "\n",
    "\n",
    "<u><span style = \"color:GREEN\"> MEASUREMENTS</span></u>:\n",
    "\n",
    "It is defined as a standard process of recording characteristics of a variable according to a set of rules.\n",
    "Typically there are four different scales of measurement which refers to how variable are defined and related data is captured.\n",
    "Depending on the type of scale the implication for the interpretation and analysis is made.\n",
    "say,.when a particular scale is chosen then analysis made are under its constraints.\n",
    "\n",
    "----> 1. NOMINAL SCALE  \n",
    "----> 2. ORDINAL SCALE  \n",
    "----> 3. INTERVAL SCALE  \n",
    "----> 4. RATIO SCALE  "
   ]
  },
  {
   "cell_type": "markdown",
   "id": "1e78f41c",
   "metadata": {},
   "source": [
    "### <u><span style = \"color:BROWN\"> NOMINAL SCALE:</span></u>\n"
   ]
  },
  {
   "cell_type": "markdown",
   "id": "cadb17ed",
   "metadata": {},
   "source": [
    "1. Charaterized by qualitative data that consists of names, labels,or categories only.  \n",
    "2. This data cannot be arranged in ordering schema.(say.,high to low).  \n",
    "3. This scale donot have any magnitude.  \n",
    "4. Permissible statistics are based on counts.Therefore percentage and mode can be calculated.  \n",
    "5. General Example: color of car:blue=1,red=2  \n",
    "   Explanation: These values(blue and red) cannot be compared or arranged in any order, the values assigned to it doesnot carry    any magnitude.  "
   ]
  },
  {
   "cell_type": "code",
   "execution_count": 1,
   "id": "178562c7",
   "metadata": {},
   "outputs": [],
   "source": [
    "#importing libraries\n",
    "import pandas as pd\n",
    "import numpy as np"
   ]
  },
  {
   "cell_type": "code",
   "execution_count": 123,
   "id": "fab5f234",
   "metadata": {},
   "outputs": [
    {
     "data": {
      "text/html": [
       "<div>\n",
       "<style scoped>\n",
       "    .dataframe tbody tr th:only-of-type {\n",
       "        vertical-align: middle;\n",
       "    }\n",
       "\n",
       "    .dataframe tbody tr th {\n",
       "        vertical-align: top;\n",
       "    }\n",
       "\n",
       "    .dataframe thead th {\n",
       "        text-align: right;\n",
       "    }\n",
       "</style>\n",
       "<table border=\"1\" class=\"dataframe\">\n",
       "  <thead>\n",
       "    <tr style=\"text-align: right;\">\n",
       "      <th></th>\n",
       "      <th>Item_Identifier</th>\n",
       "      <th>Item_Weight</th>\n",
       "      <th>Item_Fat_Content</th>\n",
       "      <th>Item_Visibility</th>\n",
       "      <th>Item_Type</th>\n",
       "      <th>Item_MRP</th>\n",
       "      <th>Outlet_Identifier</th>\n",
       "      <th>Outlet_Establishment_Year</th>\n",
       "      <th>Outlet_Size</th>\n",
       "      <th>Outlet_Location_Type</th>\n",
       "      <th>Outlet_Type</th>\n",
       "      <th>Item_Outlet_Sales</th>\n",
       "      <th>Profit</th>\n",
       "    </tr>\n",
       "  </thead>\n",
       "  <tbody>\n",
       "    <tr>\n",
       "      <th>0</th>\n",
       "      <td>FDA15</td>\n",
       "      <td>9.30</td>\n",
       "      <td>Low Fat</td>\n",
       "      <td>0.016047</td>\n",
       "      <td>Dairy</td>\n",
       "      <td>249.8</td>\n",
       "      <td>OUT049</td>\n",
       "      <td>1999</td>\n",
       "      <td>Medium</td>\n",
       "      <td>Tier 2</td>\n",
       "      <td>Supermarket Type1</td>\n",
       "      <td>3735.1380</td>\n",
       "      <td>11.5</td>\n",
       "    </tr>\n",
       "    <tr>\n",
       "      <th>1</th>\n",
       "      <td>DRC01</td>\n",
       "      <td>5.92</td>\n",
       "      <td>Regular</td>\n",
       "      <td>0.019278</td>\n",
       "      <td>Soft Drinks</td>\n",
       "      <td>48.3</td>\n",
       "      <td>OUT018</td>\n",
       "      <td>2009</td>\n",
       "      <td>Medium</td>\n",
       "      <td>Tier 2</td>\n",
       "      <td>Supermarket Type2</td>\n",
       "      <td>443.4228</td>\n",
       "      <td>14.3</td>\n",
       "    </tr>\n",
       "    <tr>\n",
       "      <th>2</th>\n",
       "      <td>FDN15</td>\n",
       "      <td>17.50</td>\n",
       "      <td>Low Fat</td>\n",
       "      <td>0.016760</td>\n",
       "      <td>Meat</td>\n",
       "      <td>141.6</td>\n",
       "      <td>OUT049</td>\n",
       "      <td>1999</td>\n",
       "      <td>Medium</td>\n",
       "      <td>Tier 2</td>\n",
       "      <td>Supermarket Type1</td>\n",
       "      <td>2097.2700</td>\n",
       "      <td>14.5</td>\n",
       "    </tr>\n",
       "    <tr>\n",
       "      <th>3</th>\n",
       "      <td>FDX07</td>\n",
       "      <td>19.20</td>\n",
       "      <td>Regular</td>\n",
       "      <td>0.000000</td>\n",
       "      <td>Fruits and Vegetables</td>\n",
       "      <td>182.1</td>\n",
       "      <td>OUT010</td>\n",
       "      <td>1998</td>\n",
       "      <td>NaN</td>\n",
       "      <td>NaN</td>\n",
       "      <td>Grocery Store</td>\n",
       "      <td>732.3800</td>\n",
       "      <td>13.6</td>\n",
       "    </tr>\n",
       "    <tr>\n",
       "      <th>4</th>\n",
       "      <td>NCD19</td>\n",
       "      <td>8.93</td>\n",
       "      <td>Low Fat</td>\n",
       "      <td>0.000000</td>\n",
       "      <td>Household</td>\n",
       "      <td>53.9</td>\n",
       "      <td>OUT013</td>\n",
       "      <td>1987</td>\n",
       "      <td>High</td>\n",
       "      <td>Tier 3</td>\n",
       "      <td>Supermarket Type1</td>\n",
       "      <td>994.7052</td>\n",
       "      <td>14.1</td>\n",
       "    </tr>\n",
       "  </tbody>\n",
       "</table>\n",
       "</div>"
      ],
      "text/plain": [
       "  Item_Identifier  Item_Weight Item_Fat_Content  Item_Visibility  \\\n",
       "0           FDA15         9.30          Low Fat         0.016047   \n",
       "1           DRC01         5.92          Regular         0.019278   \n",
       "2           FDN15        17.50          Low Fat         0.016760   \n",
       "3           FDX07        19.20          Regular         0.000000   \n",
       "4           NCD19         8.93          Low Fat         0.000000   \n",
       "\n",
       "               Item_Type  Item_MRP Outlet_Identifier  \\\n",
       "0                  Dairy     249.8            OUT049   \n",
       "1            Soft Drinks      48.3            OUT018   \n",
       "2                   Meat     141.6            OUT049   \n",
       "3  Fruits and Vegetables     182.1            OUT010   \n",
       "4              Household      53.9            OUT013   \n",
       "\n",
       "   Outlet_Establishment_Year Outlet_Size Outlet_Location_Type  \\\n",
       "0                       1999      Medium               Tier 2   \n",
       "1                       2009      Medium               Tier 2   \n",
       "2                       1999      Medium               Tier 2   \n",
       "3                       1998         NaN                  NaN   \n",
       "4                       1987        High               Tier 3   \n",
       "\n",
       "         Outlet_Type  Item_Outlet_Sales  Profit  \n",
       "0  Supermarket Type1          3735.1380    11.5  \n",
       "1  Supermarket Type2           443.4228    14.3  \n",
       "2  Supermarket Type1          2097.2700    14.5  \n",
       "3      Grocery Store           732.3800    13.6  \n",
       "4  Supermarket Type1           994.7052    14.1  "
      ]
     },
     "execution_count": 123,
     "metadata": {},
     "output_type": "execute_result"
    }
   ],
   "source": [
    "#importing the sales data\n",
    "raw_data = pd.read_csv(r\"F:\\\\Semester 1\\\\Statistics 1\\\\session 2\\\\sales1.csv\")\n",
    "data = raw_data.copy()\n",
    "data.head()"
   ]
  },
  {
   "cell_type": "code",
   "execution_count": 125,
   "id": "6fe24788",
   "metadata": {},
   "outputs": [
    {
     "data": {
      "text/plain": [
       "0    FDA15\n",
       "1    DRC01\n",
       "2    FDN15\n",
       "3    FDX07\n",
       "4    NCD19\n",
       "Name: Item_Identifier, dtype: object"
      ]
     },
     "execution_count": 125,
     "metadata": {},
     "output_type": "execute_result"
    }
   ],
   "source": [
    "#example for a nominal variable from the sales dataset\n",
    "nominal_var = data.iloc[:,0]\n",
    "nominal_var.head()"
   ]
  },
  {
   "cell_type": "markdown",
   "id": "06a1bea3",
   "metadata": {},
   "source": [
    "<u>INTERPRETATION</u>:\n",
    "\n",
    "* The variable \"item_identifier\" represents nominal scale data.  \n",
    "* These are identity of the products which cannot be compared one another and are unique.  \n",
    "* They doesnot carry any value of magnitude with them.  "
   ]
  },
  {
   "cell_type": "markdown",
   "id": "f6c78fc3",
   "metadata": {},
   "source": [
    "### <u><span style = \"color:BROWN\"> ORDINAL SCALE:</span></u>"
   ]
  },
  {
   "cell_type": "markdown",
   "id": "b98a2426",
   "metadata": {},
   "source": [
    "1. Characterized by qualitative data can be arranged in some meaningful order.\n",
    "2. These scale have magnitude but donot have an defined/fixed interval.\n",
    "3. Difference between data values either cannot be determined or meaningless.\n",
    "4. Permissible statistics are based on relative position.Therefore mean,quartile and percentile can be calculated.\n",
    "5. General Example: Rank order of customers in internet data usuage:1-heavy users,2-medium user,3-light user  \n",
    "   Explanation: Here the data user is categorized into three depending on usuage in a ordering schema(1,2,3) but the difference \n",
    "   between them cannot be considered because user1 consumption is 10.5GB ,user2 consumption is 5GB,user3 consumption is 3GB.\n",
    "   The difference between them are not fixed."
   ]
  },
  {
   "cell_type": "code",
   "execution_count": 127,
   "id": "71f6283c",
   "metadata": {
    "scrolled": true
   },
   "outputs": [
    {
     "data": {
      "text/plain": [
       "24     Tier1\n",
       "25       NaN\n",
       "26     Tier1\n",
       "27    Tier 3\n",
       "28       NaN\n",
       "Name: Outlet_Location_Type, dtype: object"
      ]
     },
     "execution_count": 127,
     "metadata": {},
     "output_type": "execute_result"
    }
   ],
   "source": [
    "#example for a ordinal variable from the sales dataset\n",
    "ordinal_var = data.iloc[:,-4]\n",
    "ordinal_var.tail()"
   ]
  },
  {
   "cell_type": "markdown",
   "id": "da93b0a3",
   "metadata": {},
   "source": [
    "<u>INTERPRETATION:</u>\n",
    "* The column \"Outlet_Location_Type\" represents ordinal data.\n",
    "* Arranged as Tier1=1,Tier2=2,Tier3=3 similar to a rank order.\n",
    "* They have assigned values(1,2,3) which carry magnitude but interval might not be similar based on which it is   distinguished.Say,.Population,development,.. \n",
    "* NaN in dataset is not a number which should be removed or assigned with centrality before analysis."
   ]
  },
  {
   "cell_type": "markdown",
   "id": "48c24517",
   "metadata": {},
   "source": [
    "### <u><span style = \"color:BROWN\"> INTERVAL SCALE:</span></u>"
   ]
  },
  {
   "cell_type": "markdown",
   "id": "e13618d8",
   "metadata": {},
   "source": [
    "1. This scale of measurement works on quantitative data(both discret and continuous).\n",
    "2. The difference between any two data values is meaningful but not their ratio.\n",
    "3. The differnce between the interals are fixed\n",
    "4. There is no natural zero point.\n",
    "5. Permissible statistics are mode,median,mean,range,variance,standard deviation,quartile,percentile.\n",
    "6. General Example: Temperature,Time,User rating from 1 to 5.  \n",
    "   Explanation1: Temperature- If temperature is 0 degree Celsius, it doesnt mean there is no value,it is 32F.  \n",
    "   Explanation2: Time- If the time is 00:00 , it is 12:00 am and its not that it don't have a value.    \n",
    "   Explanation3: Rating 1-2-3-4-5, if the rating given by a customer is 4 today and rating given by a customer is 2 tomorrow\n",
    "   we cannot say its reduced by 1/2.Because the ratio value are meaningless only the interval between them                          matters so it is appropriate to say 2 and here we see the difference between the intervals are same.   \n",
    "   "
   ]
  },
  {
   "cell_type": "code",
   "execution_count": 5,
   "id": "cc0e70ec",
   "metadata": {},
   "outputs": [
    {
     "data": {
      "text/plain": [
       "0    1999\n",
       "1    2009\n",
       "2    1999\n",
       "3    1998\n",
       "4    1987\n",
       "5    2009\n",
       "6    1987\n",
       "7    1985\n",
       "8    2002\n",
       "9    2007\n",
       "Name: Outlet_Establishment_Year, dtype: int64"
      ]
     },
     "execution_count": 5,
     "metadata": {},
     "output_type": "execute_result"
    }
   ],
   "source": [
    "#example for a interval scale variable from the sales dataset\n",
    "ordinal_var = data.iloc[:,7]\n",
    "ordinal_var.head(10)"
   ]
  },
  {
   "cell_type": "markdown",
   "id": "7dd918ad",
   "metadata": {},
   "source": [
    "<u>INTERPRETATION</u>:\n",
    "\n",
    "* The variable \"Outlet_Establishment_Year\" represents data measured with ratio scale.  \n",
    "* Typically,Year doesnot have a True zero point.  \n",
    "* Interval between each year is fixed(2009,2010,2011..)and the difference between the year values are useful but not the value itself.  "
   ]
  },
  {
   "cell_type": "markdown",
   "id": "d7711499",
   "metadata": {},
   "source": [
    "### <u><span style = \"color:BROWN\"> RATIO SCALE:</span></u>\n"
   ]
  },
  {
   "cell_type": "markdown",
   "id": "e98e2075",
   "metadata": {},
   "source": [
    "1. Like Interval scale,this scale of measurement works on quantitative data(both discret and continuous).\n",
    "2. In this scale , both difference between the values and ratio are meaningful.\n",
    "3. There is a natural zero starting point where the value of the variable has no value.\n",
    "   (i.e)zero is anchored and every thing is measured from it.\n",
    "4. Permissible statistics includes a wide variety of both descriptive and inferential statistics.\n",
    "   some of them are mean,median,mode,coefficient of variance,standard deviation, etc.\n",
    "5. General Example: Weight of students in a class,time taken by an athelte to complete 100mts..  \n",
    "   Explanation: The weight of a student in class can be 56,56.5 or 56.5567,Time taken would be 9.564 sec starting from 0sec.  "
   ]
  },
  {
   "cell_type": "code",
   "execution_count": 128,
   "id": "533da8cb",
   "metadata": {},
   "outputs": [
    {
     "data": {
      "text/plain": [
       "0    11.5\n",
       "1    14.3\n",
       "2    14.5\n",
       "3    13.6\n",
       "4    14.1\n",
       "5     9.5\n",
       "6     8.8\n",
       "7    13.3\n",
       "8    13.0\n",
       "9    13.6\n",
       "Name: Profit, dtype: float64"
      ]
     },
     "execution_count": 128,
     "metadata": {},
     "output_type": "execute_result"
    }
   ],
   "source": [
    "#example for a ratio scale variable from the sales dataset\n",
    "ordinal_var = data.iloc[:,-1]\n",
    "ordinal_var.head(10)"
   ]
  },
  {
   "cell_type": "markdown",
   "id": "fb78b85f",
   "metadata": {},
   "source": [
    "<u>INTERPRETATION</u>:\n",
    "* A variable \"Profit\" represented a numerical scale - ratio\n",
    "* This data is continuous and each magnitude carries a value.\n",
    "* Here the profit can be zero too which will represent there is no profit/value.\n",
    "* Difference between values shows the difference in profit from year to year.\n"
   ]
  },
  {
   "cell_type": "markdown",
   "id": "e755a185",
   "metadata": {},
   "source": [
    "<span style = \"color:black\"> ------------------------------------------------------------------------------------------------------------------------------------------------------------------------------------------------------------------</span>"
   ]
  },
  {
   "cell_type": "markdown",
   "id": "52aa4678",
   "metadata": {},
   "source": [
    "## <u><span style = \"color:GREEN\">2.BASIC PLOTS</span></u>"
   ]
  },
  {
   "cell_type": "code",
   "execution_count": 133,
   "id": "cc164640",
   "metadata": {},
   "outputs": [
    {
     "name": "stdout",
     "output_type": "stream",
     "text": [
      "<class 'pandas.core.frame.DataFrame'>\n",
      "RangeIndex: 29 entries, 0 to 28\n",
      "Data columns (total 13 columns):\n",
      " #   Column                     Non-Null Count  Dtype  \n",
      "---  ------                     --------------  -----  \n",
      " 0   Item_Identifier            29 non-null     object \n",
      " 1   Item_Weight                25 non-null     float64\n",
      " 2   Item_Fat_Content           29 non-null     object \n",
      " 3   Item_Visibility            29 non-null     float64\n",
      " 4   Item_Type                  29 non-null     object \n",
      " 5   Item_MRP                   29 non-null     float64\n",
      " 6   Outlet_Identifier          29 non-null     object \n",
      " 7   Outlet_Establishment_Year  29 non-null     int64  \n",
      " 8   Outlet_Size                24 non-null     object \n",
      " 9   Outlet_Location_Type       24 non-null     object \n",
      " 10  Outlet_Type                29 non-null     object \n",
      " 11  Item_Outlet_Sales          29 non-null     float64\n",
      " 12  Profit                     29 non-null     float64\n",
      "dtypes: float64(5), int64(1), object(7)\n",
      "memory usage: 3.1+ KB\n"
     ]
    }
   ],
   "source": [
    "# To get overall information about a dataset like,  \n",
    "  #identifying the data types  \n",
    "  #identifying the presence of missing values in dataset  \n",
    "  #identify number of columns \n",
    "data.info()"
   ]
  },
  {
   "cell_type": "markdown",
   "id": "ba510c77",
   "metadata": {},
   "source": [
    "#### INTERPRETATION: \n",
    "1.Total of 12 columns/variables is present  \n",
    "2.Dtype - object indictes that the data is categorical  \n",
    "3.Dtype - float,int64 indicates that the data is numeric   \n",
    "4.Non-Null Count shows number of values inside each variable     "
   ]
  },
  {
   "cell_type": "code",
   "execution_count": 135,
   "id": "9022ce9c",
   "metadata": {},
   "outputs": [
    {
     "data": {
      "text/plain": [
       "Item_Identifier              0\n",
       "Item_Weight                  4\n",
       "Item_Fat_Content             0\n",
       "Item_Visibility              0\n",
       "Item_Type                    0\n",
       "Item_MRP                     0\n",
       "Outlet_Identifier            0\n",
       "Outlet_Establishment_Year    0\n",
       "Outlet_Size                  5\n",
       "Outlet_Location_Type         5\n",
       "Outlet_Type                  0\n",
       "Item_Outlet_Sales            0\n",
       "Profit                       0\n",
       "dtype: int64"
      ]
     },
     "execution_count": 135,
     "metadata": {},
     "output_type": "execute_result"
    }
   ],
   "source": [
    "# to see the number of missing values inside each variable\n",
    "data.isnull().sum()"
   ]
  },
  {
   "cell_type": "markdown",
   "id": "f5783a6d",
   "metadata": {},
   "source": [
    "#### INTERPRETATION:\n",
    "* Here we see missing data inside variables  \n",
    "  -Item_weight has 4 missing values  \n",
    "  -Outlet_Size has 5 missing values  \n",
    "  -Outlet_Location_Type has 4 missing values  \n",
    "\n",
    "* Therefore all this missing values are to removed or filled using the appropriate central tendency value.If not this might result in misleads during analysis.   "
   ]
  },
  {
   "cell_type": "code",
   "execution_count": 139,
   "id": "126b07c4",
   "metadata": {},
   "outputs": [],
   "source": [
    "#replaced the categorical data with dummy numerical data for descriptive analysis\n",
    "data[\"Outlet_Size\"] = data[\"Outlet_Size\"].replace([\"Small\",\"Medium\",\"High\"],[1,2,3])"
   ]
  },
  {
   "cell_type": "code",
   "execution_count": 140,
   "id": "469abcf7",
   "metadata": {},
   "outputs": [],
   "source": [
    "#replacing nan values with the appropraite central tendency.For categorical type data mean would be meaningless.so filling with median.\n",
    "data[\"Outlet_Size\"] = data[\"Outlet_Size\"].fillna(data[\"Outlet_Size\"].median())"
   ]
  },
  {
   "cell_type": "code",
   "execution_count": 142,
   "id": "c9f3a8b8",
   "metadata": {},
   "outputs": [],
   "source": [
    "#filling nan with mean.Assuming there are no ouliers.\n",
    "data[\"Item_Weight\"] = data[\"Item_Weight\"].fillna(data[\"Item_Weight\"].mean())"
   ]
  },
  {
   "cell_type": "code",
   "execution_count": 147,
   "id": "d62e439c",
   "metadata": {},
   "outputs": [],
   "source": [
    "#replaced the categorical data with dummy numerical data for descriptive analysis\n",
    "data[\"Outlet_Location_Type\"] = data[\"Outlet_Location_Type\"].replace([\"Tier1\",\"Tier 2\",\"Tier 3\",],[1,2,3])"
   ]
  },
  {
   "cell_type": "code",
   "execution_count": 148,
   "id": "b27b5f0e",
   "metadata": {},
   "outputs": [],
   "source": [
    "#replacing nan values with the appropraite central tendency.For categorical type data mean would be meaningless.\n",
    "data[\"Outlet_Location_Type\"] = data[\"Outlet_Location_Type\"].fillna(data[\"Outlet_Location_Type\"].median())"
   ]
  },
  {
   "cell_type": "code",
   "execution_count": 16,
   "id": "65da437b",
   "metadata": {},
   "outputs": [
    {
     "data": {
      "text/plain": [
       "Item_Identifier              0\n",
       "Item_Weight                  0\n",
       "Item_Fat_Content             0\n",
       "Item_Visibility              0\n",
       "Item_Type                    0\n",
       "Item_MRP                     0\n",
       "Outlet_Identifier            0\n",
       "Outlet_Establishment_Year    0\n",
       "Outlet_Size                  0\n",
       "Outlet_Location_Type         0\n",
       "Outlet_Type                  0\n",
       "Item_Outlet_Sales            0\n",
       "Profit                       0\n",
       "dtype: int64"
      ]
     },
     "execution_count": 16,
     "metadata": {},
     "output_type": "execute_result"
    }
   ],
   "source": [
    "data.isnull().sum()"
   ]
  },
  {
   "cell_type": "markdown",
   "id": "895d576d",
   "metadata": {},
   "source": [
    "##### No values are missing now and the dataset is ready for analysis."
   ]
  },
  {
   "cell_type": "markdown",
   "id": "873de6af",
   "metadata": {},
   "source": [
    "### <u><span style = \"color:BLUE\">SCATTER PLOT</span></u>"
   ]
  },
  {
   "cell_type": "markdown",
   "id": "b52372d9",
   "metadata": {},
   "source": [
    "1. With the help of scatterplot we can observe relationship between numerical variables  \n",
    "2. Identify pattern in data  \n",
    "3. To divide datapoints in groups based on clusters  \n",
    "4. To check for outliers  "
   ]
  },
  {
   "cell_type": "code",
   "execution_count": 149,
   "id": "9e3f8a8b",
   "metadata": {},
   "outputs": [
    {
     "data": {
      "text/html": [
       "<div>\n",
       "<style scoped>\n",
       "    .dataframe tbody tr th:only-of-type {\n",
       "        vertical-align: middle;\n",
       "    }\n",
       "\n",
       "    .dataframe tbody tr th {\n",
       "        vertical-align: top;\n",
       "    }\n",
       "\n",
       "    .dataframe thead th {\n",
       "        text-align: right;\n",
       "    }\n",
       "</style>\n",
       "<table border=\"1\" class=\"dataframe\">\n",
       "  <thead>\n",
       "    <tr style=\"text-align: right;\">\n",
       "      <th></th>\n",
       "      <th>Item_Identifier</th>\n",
       "      <th>Item_Weight</th>\n",
       "      <th>Item_Fat_Content</th>\n",
       "      <th>Item_Visibility</th>\n",
       "      <th>Item_Type</th>\n",
       "      <th>Item_MRP</th>\n",
       "      <th>Outlet_Identifier</th>\n",
       "      <th>Outlet_Establishment_Year</th>\n",
       "      <th>Outlet_Size</th>\n",
       "      <th>Outlet_Location_Type</th>\n",
       "      <th>Outlet_Type</th>\n",
       "      <th>Item_Outlet_Sales</th>\n",
       "      <th>Profit</th>\n",
       "    </tr>\n",
       "  </thead>\n",
       "  <tbody>\n",
       "    <tr>\n",
       "      <th>0</th>\n",
       "      <td>FDA15</td>\n",
       "      <td>9.30</td>\n",
       "      <td>Low Fat</td>\n",
       "      <td>0.016047</td>\n",
       "      <td>Dairy</td>\n",
       "      <td>249.8</td>\n",
       "      <td>OUT049</td>\n",
       "      <td>1999</td>\n",
       "      <td>2.0</td>\n",
       "      <td>2.0</td>\n",
       "      <td>Supermarket Type1</td>\n",
       "      <td>3735.1380</td>\n",
       "      <td>11.5</td>\n",
       "    </tr>\n",
       "    <tr>\n",
       "      <th>1</th>\n",
       "      <td>DRC01</td>\n",
       "      <td>5.92</td>\n",
       "      <td>Regular</td>\n",
       "      <td>0.019278</td>\n",
       "      <td>Soft Drinks</td>\n",
       "      <td>48.3</td>\n",
       "      <td>OUT018</td>\n",
       "      <td>2009</td>\n",
       "      <td>2.0</td>\n",
       "      <td>2.0</td>\n",
       "      <td>Supermarket Type2</td>\n",
       "      <td>443.4228</td>\n",
       "      <td>14.3</td>\n",
       "    </tr>\n",
       "  </tbody>\n",
       "</table>\n",
       "</div>"
      ],
      "text/plain": [
       "  Item_Identifier  Item_Weight Item_Fat_Content  Item_Visibility    Item_Type  \\\n",
       "0           FDA15         9.30          Low Fat         0.016047        Dairy   \n",
       "1           DRC01         5.92          Regular         0.019278  Soft Drinks   \n",
       "\n",
       "   Item_MRP Outlet_Identifier  Outlet_Establishment_Year  Outlet_Size  \\\n",
       "0     249.8            OUT049                       1999          2.0   \n",
       "1      48.3            OUT018                       2009          2.0   \n",
       "\n",
       "   Outlet_Location_Type        Outlet_Type  Item_Outlet_Sales  Profit  \n",
       "0                   2.0  Supermarket Type1          3735.1380    11.5  \n",
       "1                   2.0  Supermarket Type2           443.4228    14.3  "
      ]
     },
     "execution_count": 149,
     "metadata": {},
     "output_type": "execute_result"
    }
   ],
   "source": [
    "data.head(2)"
   ]
  },
  {
   "cell_type": "code",
   "execution_count": 18,
   "id": "bf289b3a",
   "metadata": {},
   "outputs": [],
   "source": [
    "import matplotlib.pyplot as plt"
   ]
  },
  {
   "cell_type": "code",
   "execution_count": 19,
   "id": "1b0f42be",
   "metadata": {},
   "outputs": [
    {
     "data": {
      "text/plain": [
       "Text(0, 0.5, 'Outlet sales')"
      ]
     },
     "execution_count": 19,
     "metadata": {},
     "output_type": "execute_result"
    },
    {
     "data": {
      "image/png": "[encoded data removed]",
      "text/plain": [
       "<Figure size 1224x288 with 3 Axes>"
      ]
     },
     "metadata": {
      "needs_background": "light"
     },
     "output_type": "display_data"
    }
   ],
   "source": [
    "plt.figure(figsize=(17,4))\n",
    "\n",
    "x = data[\"Profit\"]\n",
    "y = data[\"Item_MRP\"]\n",
    "plt.subplot(1,3,1)\n",
    "plt.scatter(x,y,color=\"blue\")\n",
    "plt.title(\"Item_MRP vs Profit\")\n",
    "plt.xlabel(\"Profit\")\n",
    "plt.ylabel(\"Mrp\")\n",
    "\n",
    "\n",
    "a = data[\"Outlet_Establishment_Year\"]\n",
    "b = data[\"Item_Outlet_Sales\"]\n",
    "plt.subplot(1,3,2)\n",
    "plt.scatter(a,b,color=\"red\")\n",
    "plt.title(\"Establishment_year vs Outlet_sales\")\n",
    "plt.xlabel(\"Establishment year\")\n",
    "plt.ylabel(\"Outlet sales\")\n",
    "\n",
    "c = data[\"Item_MRP\"]\n",
    "d = data[\"Item_Outlet_Sales\"]\n",
    "plt.subplot(1,3,3)\n",
    "plt.scatter(c,d,color=\"orange\")\n",
    "plt.title(\"Item_MRP vs Outlet_sales\")\n",
    "plt.xlabel(\"Mrp\")\n",
    "plt.ylabel(\"Outlet sales\")\n"
   ]
  },
  {
   "cell_type": "markdown",
   "id": "ba4e3e1a",
   "metadata": {},
   "source": [
    "<u>INSIGHTS</u>:  \n",
    "\n",
    "From plot 1, we can identify the majority of the profit made by the outlets is from 13 to 15%.    \n",
    "From plot 2, we can identify that many shops where established in the year 1995-2000.    \n",
    "From plot 3, Product with least Mrp has sold many compared to that with high Mrp products.      \n"
   ]
  },
  {
   "cell_type": "markdown",
   "id": "535af269",
   "metadata": {},
   "source": [
    "### <u><span style = \"color:BLUE\">LINE CHART</span></u> :"
   ]
  },
  {
   "cell_type": "markdown",
   "id": "09ee8c51",
   "metadata": {},
   "source": [
    "* This is used to represent data over a continuous time span.  \n",
    "* It shows the trend of a variable over time.  \n",
    "* Data value are plotted as points and connected by lines but if the x ais is not continuous donot connect the line which will   be meaningless.  "
   ]
  },
  {
   "cell_type": "code",
   "execution_count": 20,
   "id": "6fd872d5",
   "metadata": {},
   "outputs": [
    {
     "data": {
      "text/html": [
       "<div>\n",
       "<style scoped>\n",
       "    .dataframe tbody tr th:only-of-type {\n",
       "        vertical-align: middle;\n",
       "    }\n",
       "\n",
       "    .dataframe tbody tr th {\n",
       "        vertical-align: top;\n",
       "    }\n",
       "\n",
       "    .dataframe thead th {\n",
       "        text-align: right;\n",
       "    }\n",
       "</style>\n",
       "<table border=\"1\" class=\"dataframe\">\n",
       "  <thead>\n",
       "    <tr style=\"text-align: right;\">\n",
       "      <th></th>\n",
       "      <th>Outlet_Establishment_Year</th>\n",
       "      <th>Item_Outlet_Sales</th>\n",
       "    </tr>\n",
       "  </thead>\n",
       "  <tbody>\n",
       "    <tr>\n",
       "      <th>0</th>\n",
       "      <td>1999</td>\n",
       "      <td>3735.1380</td>\n",
       "    </tr>\n",
       "    <tr>\n",
       "      <th>1</th>\n",
       "      <td>2009</td>\n",
       "      <td>443.4228</td>\n",
       "    </tr>\n",
       "    <tr>\n",
       "      <th>2</th>\n",
       "      <td>1999</td>\n",
       "      <td>2097.2700</td>\n",
       "    </tr>\n",
       "    <tr>\n",
       "      <th>3</th>\n",
       "      <td>1998</td>\n",
       "      <td>732.3800</td>\n",
       "    </tr>\n",
       "    <tr>\n",
       "      <th>4</th>\n",
       "      <td>1987</td>\n",
       "      <td>994.7052</td>\n",
       "    </tr>\n",
       "  </tbody>\n",
       "</table>\n",
       "</div>"
      ],
      "text/plain": [
       "   Outlet_Establishment_Year  Item_Outlet_Sales\n",
       "0                       1999          3735.1380\n",
       "1                       2009           443.4228\n",
       "2                       1999          2097.2700\n",
       "3                       1998           732.3800\n",
       "4                       1987           994.7052"
      ]
     },
     "execution_count": 20,
     "metadata": {},
     "output_type": "execute_result"
    }
   ],
   "source": [
    "# Variables explainable using line chart\n",
    "lp = pd.DataFrame(data,columns=[\"Outlet_Establishment_Year\",\"Item_Outlet_Sales\"])\n",
    "lp.head()"
   ]
  },
  {
   "cell_type": "code",
   "execution_count": 21,
   "id": "c96ea5f7",
   "metadata": {},
   "outputs": [
    {
     "data": {
      "text/plain": [
       "Outlet_Establishment_Year\n",
       "1985    10604.8624\n",
       "1987     7399.7012\n",
       "1997     9957.7048\n",
       "1998      910.8144\n",
       "1999     9656.0974\n",
       "2002     1076.5986\n",
       "2004     5400.9696\n",
       "2007     5549.4430\n",
       "2009     2621.9204\n",
       "Name: Item_Outlet_Sales, dtype: float64"
      ]
     },
     "execution_count": 21,
     "metadata": {},
     "output_type": "execute_result"
    }
   ],
   "source": [
    "#Grouping by to find the total sales based on establishment year \n",
    "year = lp.groupby(\"Outlet_Establishment_Year\")[\"Item_Outlet_Sales\"].sum()\n",
    "year"
   ]
  },
  {
   "cell_type": "code",
   "execution_count": 22,
   "id": "ade30782",
   "metadata": {},
   "outputs": [
    {
     "data": {
      "text/html": [
       "<div>\n",
       "<style scoped>\n",
       "    .dataframe tbody tr th:only-of-type {\n",
       "        vertical-align: middle;\n",
       "    }\n",
       "\n",
       "    .dataframe tbody tr th {\n",
       "        vertical-align: top;\n",
       "    }\n",
       "\n",
       "    .dataframe thead th {\n",
       "        text-align: right;\n",
       "    }\n",
       "</style>\n",
       "<table border=\"1\" class=\"dataframe\">\n",
       "  <thead>\n",
       "    <tr style=\"text-align: right;\">\n",
       "      <th></th>\n",
       "      <th>Item_Outlet_Sales</th>\n",
       "    </tr>\n",
       "    <tr>\n",
       "      <th>Outlet_Establishment_Year</th>\n",
       "      <th></th>\n",
       "    </tr>\n",
       "  </thead>\n",
       "  <tbody>\n",
       "    <tr>\n",
       "      <th>1985</th>\n",
       "      <td>10604.8624</td>\n",
       "    </tr>\n",
       "    <tr>\n",
       "      <th>1987</th>\n",
       "      <td>7399.7012</td>\n",
       "    </tr>\n",
       "    <tr>\n",
       "      <th>1997</th>\n",
       "      <td>9957.7048</td>\n",
       "    </tr>\n",
       "    <tr>\n",
       "      <th>1998</th>\n",
       "      <td>910.8144</td>\n",
       "    </tr>\n",
       "    <tr>\n",
       "      <th>1999</th>\n",
       "      <td>9656.0974</td>\n",
       "    </tr>\n",
       "    <tr>\n",
       "      <th>2002</th>\n",
       "      <td>1076.5986</td>\n",
       "    </tr>\n",
       "    <tr>\n",
       "      <th>2004</th>\n",
       "      <td>5400.9696</td>\n",
       "    </tr>\n",
       "    <tr>\n",
       "      <th>2007</th>\n",
       "      <td>5549.4430</td>\n",
       "    </tr>\n",
       "    <tr>\n",
       "      <th>2009</th>\n",
       "      <td>2621.9204</td>\n",
       "    </tr>\n",
       "  </tbody>\n",
       "</table>\n",
       "</div>"
      ],
      "text/plain": [
       "                           Item_Outlet_Sales\n",
       "Outlet_Establishment_Year                   \n",
       "1985                              10604.8624\n",
       "1987                               7399.7012\n",
       "1997                               9957.7048\n",
       "1998                                910.8144\n",
       "1999                               9656.0974\n",
       "2002                               1076.5986\n",
       "2004                               5400.9696\n",
       "2007                               5549.4430\n",
       "2009                               2621.9204"
      ]
     },
     "execution_count": 22,
     "metadata": {},
     "output_type": "execute_result"
    }
   ],
   "source": [
    "aa = pd.DataFrame(year)\n",
    "aa"
   ]
  },
  {
   "cell_type": "code",
   "execution_count": 23,
   "id": "c1af87fe",
   "metadata": {},
   "outputs": [
    {
     "data": {
      "text/plain": [
       "[<matplotlib.lines.Line2D at 0x1c15a3f5e20>]"
      ]
     },
     "execution_count": 23,
     "metadata": {},
     "output_type": "execute_result"
    },
    {
     "data": {
      "image/png": "[encoded data removed]",
      "text/plain": [
       "<Figure size 432x288 with 1 Axes>"
      ]
     },
     "metadata": {
      "needs_background": "light"
     },
     "output_type": "display_data"
    }
   ],
   "source": [
    "plt.plot(aa[\"Item_Outlet_Sales\"],linestyle =\"\",marker = \"+\",color = \"b\")"
   ]
  },
  {
   "cell_type": "markdown",
   "id": "a12c1934",
   "metadata": {},
   "source": [
    "<u>INSIGHTS</u>:  \n",
    "* Collectively the outlets established in the year 1998 has made the least sales in total and  \n",
    " the outlets which was estalished in the year 1985 has made the maximum sales.\n",
    "\n",
    "\n",
    "Here we cannot connect the data points since the x value is not continuous and still by doing so doesnot give useful insight."
   ]
  },
  {
   "cell_type": "markdown",
   "id": "99684e38",
   "metadata": {},
   "source": [
    "### <u><span style = \"color:BLUE\">PIE CHART</span></u> :"
   ]
  },
  {
   "cell_type": "markdown",
   "id": "99317fe9",
   "metadata": {},
   "source": [
    "* Circular representation of statistical graph.\n",
    "* It is used to represent categorical data and its composition,\n",
    "* or by Converting the quantitative into categories and representing its composition.\n"
   ]
  },
  {
   "cell_type": "code",
   "execution_count": 150,
   "id": "b085a657",
   "metadata": {},
   "outputs": [
    {
     "data": {
      "text/html": [
       "<div>\n",
       "<style scoped>\n",
       "    .dataframe tbody tr th:only-of-type {\n",
       "        vertical-align: middle;\n",
       "    }\n",
       "\n",
       "    .dataframe tbody tr th {\n",
       "        vertical-align: top;\n",
       "    }\n",
       "\n",
       "    .dataframe thead th {\n",
       "        text-align: right;\n",
       "    }\n",
       "</style>\n",
       "<table border=\"1\" class=\"dataframe\">\n",
       "  <thead>\n",
       "    <tr style=\"text-align: right;\">\n",
       "      <th></th>\n",
       "      <th>Item_Identifier</th>\n",
       "      <th>Item_Weight</th>\n",
       "      <th>Item_Fat_Content</th>\n",
       "      <th>Item_Visibility</th>\n",
       "      <th>Item_Type</th>\n",
       "      <th>Item_MRP</th>\n",
       "      <th>Outlet_Identifier</th>\n",
       "      <th>Outlet_Establishment_Year</th>\n",
       "      <th>Outlet_Size</th>\n",
       "      <th>Outlet_Location_Type</th>\n",
       "      <th>Outlet_Type</th>\n",
       "      <th>Item_Outlet_Sales</th>\n",
       "      <th>Profit</th>\n",
       "    </tr>\n",
       "  </thead>\n",
       "  <tbody>\n",
       "    <tr>\n",
       "      <th>0</th>\n",
       "      <td>FDA15</td>\n",
       "      <td>9.30</td>\n",
       "      <td>Low Fat</td>\n",
       "      <td>0.016047</td>\n",
       "      <td>Dairy</td>\n",
       "      <td>249.8</td>\n",
       "      <td>OUT049</td>\n",
       "      <td>1999</td>\n",
       "      <td>2.0</td>\n",
       "      <td>2.0</td>\n",
       "      <td>Supermarket Type1</td>\n",
       "      <td>3735.1380</td>\n",
       "      <td>11.5</td>\n",
       "    </tr>\n",
       "    <tr>\n",
       "      <th>1</th>\n",
       "      <td>DRC01</td>\n",
       "      <td>5.92</td>\n",
       "      <td>Regular</td>\n",
       "      <td>0.019278</td>\n",
       "      <td>Soft Drinks</td>\n",
       "      <td>48.3</td>\n",
       "      <td>OUT018</td>\n",
       "      <td>2009</td>\n",
       "      <td>2.0</td>\n",
       "      <td>2.0</td>\n",
       "      <td>Supermarket Type2</td>\n",
       "      <td>443.4228</td>\n",
       "      <td>14.3</td>\n",
       "    </tr>\n",
       "  </tbody>\n",
       "</table>\n",
       "</div>"
      ],
      "text/plain": [
       "  Item_Identifier  Item_Weight Item_Fat_Content  Item_Visibility    Item_Type  \\\n",
       "0           FDA15         9.30          Low Fat         0.016047        Dairy   \n",
       "1           DRC01         5.92          Regular         0.019278  Soft Drinks   \n",
       "\n",
       "   Item_MRP Outlet_Identifier  Outlet_Establishment_Year  Outlet_Size  \\\n",
       "0     249.8            OUT049                       1999          2.0   \n",
       "1      48.3            OUT018                       2009          2.0   \n",
       "\n",
       "   Outlet_Location_Type        Outlet_Type  Item_Outlet_Sales  Profit  \n",
       "0                   2.0  Supermarket Type1          3735.1380    11.5  \n",
       "1                   2.0  Supermarket Type2           443.4228    14.3  "
      ]
     },
     "execution_count": 150,
     "metadata": {},
     "output_type": "execute_result"
    }
   ],
   "source": [
    "data.head(2)"
   ]
  },
  {
   "cell_type": "code",
   "execution_count": 25,
   "id": "109d1b2c",
   "metadata": {},
   "outputs": [
    {
     "data": {
      "text/plain": [
       "Outlet_Identifier\n",
       "OUT010      910.8144\n",
       "OUT013     7399.7012\n",
       "OUT017     5549.4430\n",
       "OUT018     2621.9204\n",
       "OUT019      214.3876\n",
       "OUT027    10390.4748\n",
       "OUT035     5400.9696\n",
       "OUT045     1076.5986\n",
       "OUT046     9957.7048\n",
       "OUT049     9656.0974\n",
       "Name: Item_Outlet_Sales, dtype: float64"
      ]
     },
     "execution_count": 25,
     "metadata": {},
     "output_type": "execute_result"
    }
   ],
   "source": [
    "#Grouping the data based on Outlets and their total sales\n",
    "outlet = data.groupby(\"Outlet_Identifier\")[\"Item_Outlet_Sales\"].sum()\n",
    "outlet"
   ]
  },
  {
   "cell_type": "code",
   "execution_count": 26,
   "id": "536fe12b",
   "metadata": {},
   "outputs": [
    {
     "data": {
      "image/png": "[encoded data removed]",
      "text/plain": [
       "<Figure size 504x504 with 1 Axes>"
      ]
     },
     "metadata": {},
     "output_type": "display_data"
    }
   ],
   "source": [
    "# % SPLIT AMONG OUTLETS BASED ON THEIR SALES TOTAL\n",
    "\n",
    "label = [\"OUT010\",\"OUT013\",\"OUT017\",\"OUT018\",\"OUT019\",\"OUT027\",\"OUT035\",\"OUT045\",\"OUT046\",\"OUT049\"]\n",
    "fig, ax = plt.subplots(figsize=(7, 7))\n",
    "plt.pie(outlet,labels = label,autopct='%.2f%%')\n",
    "plt.show()"
   ]
  },
  {
   "cell_type": "markdown",
   "id": "25b3c8e9",
   "metadata": {},
   "source": [
    "<u>INSIGHTS</u>: \n",
    "* OUT027 made the highest percentage of sales out of all outlets with 19.54%.  \n",
    "* OUT019 contributes to a least of 0.4%."
   ]
  },
  {
   "cell_type": "markdown",
   "id": "cc191a79",
   "metadata": {},
   "source": [
    "### <u><span style = \"color:BLUE\">BAR PLOT</span></u> :"
   ]
  },
  {
   "cell_type": "markdown",
   "id": "24ebe285",
   "metadata": {},
   "source": [
    "* This chart is used to represent relationship between a categorical and a numerical variable.  \n",
    "* This can be horizontal or vertical.  \n",
    "* Represented in a horizontal way when the names of the categories are to be presented.(Nominal variable)   \n",
    "* Represented in a vertical way when the height difference between the values are to be emphasised.(Ordinal variable)    \n"
   ]
  },
  {
   "cell_type": "markdown",
   "id": "e3da7907",
   "metadata": {},
   "source": [
    "##### <u>Horizontal</u>"
   ]
  },
  {
   "cell_type": "code",
   "execution_count": 152,
   "id": "5dcee38f",
   "metadata": {},
   "outputs": [
    {
     "data": {
      "text/plain": [
       "Item_Type\n",
       "Baking Goods              4835.0396\n",
       "Breakfast                 2265.7174\n",
       "Dairy                     8849.1478\n",
       "Frozen Foods              9865.1586\n",
       "Fruits and Vegetables     5815.0972\n",
       "Hard Drinks               2612.5992\n",
       "Health and Hygiene        1621.8888\n",
       "Household                 3420.8804\n",
       "Meat                      2097.2700\n",
       "Snack Foods              11351.8900\n",
       "Soft Drinks                443.4228\n",
       "Name: Item_Outlet_Sales, dtype: float64"
      ]
     },
     "execution_count": 152,
     "metadata": {},
     "output_type": "execute_result"
    }
   ],
   "source": [
    "#Grouping the data based on Item_type by sales\n",
    "group_item_type = data.groupby(\"Item_Type\")[\"Item_Outlet_Sales\"].sum()\n",
    "group_item_type"
   ]
  },
  {
   "cell_type": "code",
   "execution_count": 153,
   "id": "6f66ee32",
   "metadata": {
    "scrolled": true
   },
   "outputs": [
    {
     "data": {
      "text/plain": [
       "Text(0.5, 1.0, 'Item Type Vs Sales')"
      ]
     },
     "execution_count": 153,
     "metadata": {},
     "output_type": "execute_result"
    },
    {
     "data": {
      "image/png": "[encoded data removed]",
      "text/plain": [
       "<Figure size 432x288 with 1 Axes>"
      ]
     },
     "metadata": {
      "needs_background": "light"
     },
     "output_type": "display_data"
    }
   ],
   "source": [
    "label = [\"Baking Goods\",\"Breakfast\",\"Dairy\",\"Frozen Foods\",\"Fruits and Vegetables\",\"Hard Drinks\",\"Health and Hygiene\",\n",
    "         \"Household\",\"Meat\",\"Snack Foods\",\"Soft Drinks\"]\n",
    "plt.barh(label,group_item_type)\n",
    "plt.xlabel(\"Outet_sales\")\n",
    "plt.ylabel(\"Item_type\")\n",
    "plt.title(\"Item Type Vs Sales\")"
   ]
  },
  {
   "cell_type": "markdown",
   "id": "75235456",
   "metadata": {},
   "source": [
    "<u>INSIGHTS</u>:\n",
    "1. Snack Foods seemed to be the most sold item from all the outlets comparatively.  \n",
    "2. The least ones are the soft drinks.  \n"
   ]
  },
  {
   "cell_type": "markdown",
   "id": "f36090f5",
   "metadata": {},
   "source": [
    "##### <u>Vertical</u>"
   ]
  },
  {
   "cell_type": "code",
   "execution_count": 29,
   "id": "f2724b97",
   "metadata": {},
   "outputs": [
    {
     "data": {
      "text/plain": [
       "Text(0.5, 1.0, 'Outlet_sales Vs Outlet_size')"
      ]
     },
     "execution_count": 29,
     "metadata": {},
     "output_type": "execute_result"
    },
    {
     "data": {
      "image/png": "[encoded data removed]",
      "text/plain": [
       "<Figure size 720x360 with 1 Axes>"
      ]
     },
     "metadata": {
      "needs_background": "light"
     },
     "output_type": "display_data"
    }
   ],
   "source": [
    "# Outlet Size; Small =1,Medium = 2,High = 3\n",
    "plt.figure(figsize=(10,5))\n",
    "plt.subplot(1,2,1)\n",
    "plt.bar(data[\"Outlet_Size\"],data[\"Item_Outlet_Sales\"],color = \"purple\")\n",
    "plt.xlabel(\"Outet_Size\")\n",
    "plt.ylabel(\"Outlets_Sales\")\n",
    "plt.title(\"Outlet_sales Vs Outlet_size\")"
   ]
  },
  {
   "cell_type": "markdown",
   "id": "a89fcc9d",
   "metadata": {},
   "source": [
    "<u>INSIGHTS</u>:\n",
    "* Medium sized shops makes higher sales in total compared to that of small and high sized,irrespective of their numbers.\n",
    "\n"
   ]
  },
  {
   "cell_type": "markdown",
   "id": "e22b8ec0",
   "metadata": {},
   "source": [
    "### <u><span style = \"color:BLUE\">HISTOGRAM</span></u> :"
   ]
  },
  {
   "cell_type": "markdown",
   "id": "eeca34a1",
   "metadata": {},
   "source": [
    "* Graphical representation of data using bars,this is similar to bar plot but (both x,y is numerical)with frequency on y-axis. \n",
    "* x-axis(Vertival) interval shows the scale of values which the measurement falls under.This is called bins.They can be discret   or continuous. \n",
    "* y-axis(Horizontal) shows the number of times that the value occured for each interval of x-axis.\n",
    "* Relative frequency totals to 1 in y-axis.\n",
    " "
   ]
  },
  {
   "cell_type": "code",
   "execution_count": 154,
   "id": "d75b8051",
   "metadata": {},
   "outputs": [
    {
     "data": {
      "text/html": [
       "<div>\n",
       "<style scoped>\n",
       "    .dataframe tbody tr th:only-of-type {\n",
       "        vertical-align: middle;\n",
       "    }\n",
       "\n",
       "    .dataframe tbody tr th {\n",
       "        vertical-align: top;\n",
       "    }\n",
       "\n",
       "    .dataframe thead th {\n",
       "        text-align: right;\n",
       "    }\n",
       "</style>\n",
       "<table border=\"1\" class=\"dataframe\">\n",
       "  <thead>\n",
       "    <tr style=\"text-align: right;\">\n",
       "      <th></th>\n",
       "      <th>Item_Identifier</th>\n",
       "      <th>Item_Weight</th>\n",
       "      <th>Item_Fat_Content</th>\n",
       "      <th>Item_Visibility</th>\n",
       "      <th>Item_Type</th>\n",
       "      <th>Item_MRP</th>\n",
       "      <th>Outlet_Identifier</th>\n",
       "      <th>Outlet_Establishment_Year</th>\n",
       "      <th>Outlet_Size</th>\n",
       "      <th>Outlet_Location_Type</th>\n",
       "      <th>Outlet_Type</th>\n",
       "      <th>Item_Outlet_Sales</th>\n",
       "      <th>Profit</th>\n",
       "    </tr>\n",
       "  </thead>\n",
       "  <tbody>\n",
       "    <tr>\n",
       "      <th>0</th>\n",
       "      <td>FDA15</td>\n",
       "      <td>9.30</td>\n",
       "      <td>Low Fat</td>\n",
       "      <td>0.016047</td>\n",
       "      <td>Dairy</td>\n",
       "      <td>249.8</td>\n",
       "      <td>OUT049</td>\n",
       "      <td>1999</td>\n",
       "      <td>2.0</td>\n",
       "      <td>2.0</td>\n",
       "      <td>Supermarket Type1</td>\n",
       "      <td>3735.1380</td>\n",
       "      <td>11.5</td>\n",
       "    </tr>\n",
       "    <tr>\n",
       "      <th>1</th>\n",
       "      <td>DRC01</td>\n",
       "      <td>5.92</td>\n",
       "      <td>Regular</td>\n",
       "      <td>0.019278</td>\n",
       "      <td>Soft Drinks</td>\n",
       "      <td>48.3</td>\n",
       "      <td>OUT018</td>\n",
       "      <td>2009</td>\n",
       "      <td>2.0</td>\n",
       "      <td>2.0</td>\n",
       "      <td>Supermarket Type2</td>\n",
       "      <td>443.4228</td>\n",
       "      <td>14.3</td>\n",
       "    </tr>\n",
       "  </tbody>\n",
       "</table>\n",
       "</div>"
      ],
      "text/plain": [
       "  Item_Identifier  Item_Weight Item_Fat_Content  Item_Visibility    Item_Type  \\\n",
       "0           FDA15         9.30          Low Fat         0.016047        Dairy   \n",
       "1           DRC01         5.92          Regular         0.019278  Soft Drinks   \n",
       "\n",
       "   Item_MRP Outlet_Identifier  Outlet_Establishment_Year  Outlet_Size  \\\n",
       "0     249.8            OUT049                       1999          2.0   \n",
       "1      48.3            OUT018                       2009          2.0   \n",
       "\n",
       "   Outlet_Location_Type        Outlet_Type  Item_Outlet_Sales  Profit  \n",
       "0                   2.0  Supermarket Type1          3735.1380    11.5  \n",
       "1                   2.0  Supermarket Type2           443.4228    14.3  "
      ]
     },
     "execution_count": 154,
     "metadata": {},
     "output_type": "execute_result"
    }
   ],
   "source": [
    "data.head(2)"
   ]
  },
  {
   "cell_type": "code",
   "execution_count": 155,
   "id": "a3adb450",
   "metadata": {},
   "outputs": [
    {
     "data": {
      "text/plain": [
       "([<matplotlib.axis.YTick at 0x1c15fd90eb0>,\n",
       "  <matplotlib.axis.YTick at 0x1c15fd90700>,\n",
       "  <matplotlib.axis.YTick at 0x1c15fd7fdc0>,\n",
       "  <matplotlib.axis.YTick at 0x1c15fe10a60>,\n",
       "  <matplotlib.axis.YTick at 0x1c15fe151f0>,\n",
       "  <matplotlib.axis.YTick at 0x1c15fe15940>,\n",
       "  <matplotlib.axis.YTick at 0x1c15fe1c0d0>],\n",
       " [Text(0, 0, ''),\n",
       "  Text(0, 0, ''),\n",
       "  Text(0, 0, ''),\n",
       "  Text(0, 0, ''),\n",
       "  Text(0, 0, ''),\n",
       "  Text(0, 0, ''),\n",
       "  Text(0, 0, '')])"
      ]
     },
     "execution_count": 155,
     "metadata": {},
     "output_type": "execute_result"
    },
    {
     "data": {
      "image/png": "[encoded data removed]",
      "text/plain": [
       "<Figure size 1224x360 with 2 Axes>"
      ]
     },
     "metadata": {
      "needs_background": "light"
     },
     "output_type": "display_data"
    }
   ],
   "source": [
    "# Plotting histogram frequency vs its mrp & frequency vs its outlet sales\n",
    "plt.figure(figsize=(17,5))\n",
    "\n",
    "plt.subplot(1,3,1)\n",
    "plt.hist(data[\"Item_MRP\"],bins = 20,edgecolor = \"black\")\n",
    "plt.xlabel(\"Item_MRP\")\n",
    "plt.xticks(np.arange(0,280,10),rotation = 90,color = \"BLUE\")\n",
    "plt.ylabel(\"No of products\")\n",
    "plt.yticks(np.arange(0,7,1),rotation = 0,color = \"BLUE\")\n",
    "\n",
    "plt.subplot(1,3,2)\n",
    "plt.hist(data[\"Item_Outlet_Sales\"],bins = 20,edgecolor = \"black\")\n",
    "plt.xlabel(\"Item_Outlet_Sales\")\n",
    "plt.xticks(np.arange(0,4800,200),rotation = 90,color = \"BLUE\")\n",
    "plt.ylabel(\"Sales Frequency of Outlets\")\n",
    "plt.yticks(np.arange(0,7,1),rotation = 0,color = \"BLUE\")"
   ]
  },
  {
   "cell_type": "markdown",
   "id": "4cf54f39",
   "metadata": {},
   "source": [
    "<u>INSIGHTS</u>:\n",
    "\n",
    "* Majority of the products in the outlets are between 40-50 Mrp.  \n",
    "* Majority of the the sales made by the outlets are in the range of 200-400 and 1500-1700.  "
   ]
  },
  {
   "cell_type": "markdown",
   "id": "985fe598",
   "metadata": {},
   "source": [
    "### <u><span style = \"color:BLUE\">FREQUENCY POLYGON</span></u> :"
   ]
  },
  {
   "cell_type": "markdown",
   "id": "6744055c",
   "metadata": {},
   "source": [
    "* It is a frequency distribution graph used to depict the shape of the data and to depict trends.\n",
    "* A frequency polygon is a graph constructed by using lines to join the midpoints of each interval, or bin of the histrogram.\n",
    "* This can be drawn with or without the help of histogram\n",
    "* The heights of the points represent the frequencies.\n",
    "* The midpoints of the bins is calculated from the frequency distribution table.  \n",
    "* Multiple datasets can be compared here by plotting only the line."
   ]
  },
  {
   "cell_type": "code",
   "execution_count": 32,
   "id": "8ad3d8d8",
   "metadata": {},
   "outputs": [
    {
     "data": {
      "text/plain": [
       "Text(0, 0.5, 'No of Items')"
      ]
     },
     "execution_count": 32,
     "metadata": {},
     "output_type": "execute_result"
    },
    {
     "data": {
      "image/png": "[encoded data removed]",
      "text/plain": [
       "<Figure size 432x288 with 1 Axes>"
      ]
     },
     "metadata": {
      "needs_background": "light"
     },
     "output_type": "display_data"
    }
   ],
   "source": [
    "# plotting frequency polygon\n",
    "y,edges,_ = plt.hist(data[\"Item_Weight\"],bins = [4,5,6,7,8,9,10,11,12,13,14,15,16,17,18,19,20,21],edgecolor = \"k\",histtype = \"step\")\n",
    "midpoints = 0.5*(edges[1:]+edges[:-1]) #identify midpoints of the histogram to connect the lines\n",
    "plt.plot(midpoints,y)\n",
    "plt.xlabel(\"Item_Weight\")\n",
    "plt.xticks(np.arange(3,21,1),rotation = 45,color = \"Black\")\n",
    "plt.ylabel(\"No of Items\")\n"
   ]
  },
  {
   "cell_type": "markdown",
   "id": "44af557c",
   "metadata": {},
   "source": [
    "<u>INSIGHTS</u>:\n",
    "\n",
    "* Majority of the items weights between 13 to 14.\n",
    "\n",
    "\n"
   ]
  },
  {
   "cell_type": "markdown",
   "id": "37ca80f8",
   "metadata": {},
   "source": [
    "### <u><span style = \"color:BLUE\">PARETO CHART</span></u> :"
   ]
  },
  {
   "cell_type": "markdown",
   "id": "c4c48dd0",
   "metadata": {},
   "source": [
    "* This chart type contains both bars and a line graph, where individual values are represented in descending order by bars, and   the cumulative total is represented by the line.  \n",
    "* A relative frequency histogram in descending order of frequency.  \n",
    "\n",
    "\n",
    "* x-axis is catgorical \n",
    "* y-axis(left) can be numerical or frequency type.  \n",
    "* y-axis(right) shows the cumulative percentage of y-axis(left) with reference to x-axis. \n"
   ]
  },
  {
   "cell_type": "code",
   "execution_count": 156,
   "id": "a652072c",
   "metadata": {},
   "outputs": [
    {
     "data": {
      "text/html": [
       "<div>\n",
       "<style scoped>\n",
       "    .dataframe tbody tr th:only-of-type {\n",
       "        vertical-align: middle;\n",
       "    }\n",
       "\n",
       "    .dataframe tbody tr th {\n",
       "        vertical-align: top;\n",
       "    }\n",
       "\n",
       "    .dataframe thead th {\n",
       "        text-align: right;\n",
       "    }\n",
       "</style>\n",
       "<table border=\"1\" class=\"dataframe\">\n",
       "  <thead>\n",
       "    <tr style=\"text-align: right;\">\n",
       "      <th></th>\n",
       "      <th>Item_Identifier</th>\n",
       "      <th>Item_Weight</th>\n",
       "      <th>Item_Fat_Content</th>\n",
       "      <th>Item_Visibility</th>\n",
       "      <th>Item_Type</th>\n",
       "      <th>Item_MRP</th>\n",
       "      <th>Outlet_Identifier</th>\n",
       "      <th>Outlet_Establishment_Year</th>\n",
       "      <th>Outlet_Size</th>\n",
       "      <th>Outlet_Location_Type</th>\n",
       "      <th>Outlet_Type</th>\n",
       "      <th>Item_Outlet_Sales</th>\n",
       "      <th>Profit</th>\n",
       "    </tr>\n",
       "  </thead>\n",
       "  <tbody>\n",
       "    <tr>\n",
       "      <th>0</th>\n",
       "      <td>FDA15</td>\n",
       "      <td>9.30</td>\n",
       "      <td>Low Fat</td>\n",
       "      <td>0.016047</td>\n",
       "      <td>Dairy</td>\n",
       "      <td>249.8</td>\n",
       "      <td>OUT049</td>\n",
       "      <td>1999</td>\n",
       "      <td>2.0</td>\n",
       "      <td>2.0</td>\n",
       "      <td>Supermarket Type1</td>\n",
       "      <td>3735.1380</td>\n",
       "      <td>11.5</td>\n",
       "    </tr>\n",
       "    <tr>\n",
       "      <th>1</th>\n",
       "      <td>DRC01</td>\n",
       "      <td>5.92</td>\n",
       "      <td>Regular</td>\n",
       "      <td>0.019278</td>\n",
       "      <td>Soft Drinks</td>\n",
       "      <td>48.3</td>\n",
       "      <td>OUT018</td>\n",
       "      <td>2009</td>\n",
       "      <td>2.0</td>\n",
       "      <td>2.0</td>\n",
       "      <td>Supermarket Type2</td>\n",
       "      <td>443.4228</td>\n",
       "      <td>14.3</td>\n",
       "    </tr>\n",
       "  </tbody>\n",
       "</table>\n",
       "</div>"
      ],
      "text/plain": [
       "  Item_Identifier  Item_Weight Item_Fat_Content  Item_Visibility    Item_Type  \\\n",
       "0           FDA15         9.30          Low Fat         0.016047        Dairy   \n",
       "1           DRC01         5.92          Regular         0.019278  Soft Drinks   \n",
       "\n",
       "   Item_MRP Outlet_Identifier  Outlet_Establishment_Year  Outlet_Size  \\\n",
       "0     249.8            OUT049                       1999          2.0   \n",
       "1      48.3            OUT018                       2009          2.0   \n",
       "\n",
       "   Outlet_Location_Type        Outlet_Type  Item_Outlet_Sales  Profit  \n",
       "0                   2.0  Supermarket Type1          3735.1380    11.5  \n",
       "1                   2.0  Supermarket Type2           443.4228    14.3  "
      ]
     },
     "execution_count": 156,
     "metadata": {},
     "output_type": "execute_result"
    }
   ],
   "source": [
    "data.head(2)"
   ]
  },
  {
   "cell_type": "code",
   "execution_count": 157,
   "id": "47fbc706",
   "metadata": {},
   "outputs": [
    {
     "data": {
      "text/plain": [
       "Item_Type\n",
       "Baking Goods              4835.0396\n",
       "Breakfast                 2265.7174\n",
       "Dairy                     8849.1478\n",
       "Frozen Foods              9865.1586\n",
       "Fruits and Vegetables     5815.0972\n",
       "Hard Drinks               2612.5992\n",
       "Health and Hygiene        1621.8888\n",
       "Household                 3420.8804\n",
       "Meat                      2097.2700\n",
       "Snack Foods              11351.8900\n",
       "Soft Drinks                443.4228\n",
       "Name: Item_Outlet_Sales, dtype: float64"
      ]
     },
     "execution_count": 157,
     "metadata": {},
     "output_type": "execute_result"
    }
   ],
   "source": [
    "# groupby based on items with sales\n",
    "df = data.groupby(data[\"Item_Type\"])[\"Item_Outlet_Sales\"].sum()\n",
    "df"
   ]
  },
  {
   "cell_type": "code",
   "execution_count": 162,
   "id": "ad237427",
   "metadata": {},
   "outputs": [
    {
     "name": "stdout",
     "output_type": "stream",
     "text": [
      "[4835.0396, 2265.7174, 8849.147799999999, 9865.1586, 5815.0972, 2612.5992, 1621.8888, 3420.8804, 2097.27, 11351.89, 443.4228]\n"
     ]
    },
    {
     "data": {
      "text/plain": [
       "<zip at 0x1c15fbb5080>"
      ]
     },
     "execution_count": 162,
     "metadata": {},
     "output_type": "execute_result"
    }
   ],
   "source": [
    "items = [\"Baking Goods\",\"Breakfast\",\"Dairy\",\"Frozen Foods\",\"Fruits and Vegetables\",\"Hard Drinks\",\"Health and Hygiene\",\n",
    "         \"Household\",\"Meat\",\n",
    "         \"Snack Foods\",\"Soft Drinks\"]\n",
    "sales = []\n",
    "for i in df:\n",
    "    sales.append(i)\n",
    "print(sales)    \n",
    "\n",
    "x = zip(items,sales)\n",
    "x"
   ]
  },
  {
   "cell_type": "code",
   "execution_count": 163,
   "id": "312db397",
   "metadata": {},
   "outputs": [],
   "source": [
    "pareto = pd.DataFrame(x,columns=[\"items\",\"sales\"])"
   ]
  },
  {
   "cell_type": "code",
   "execution_count": 164,
   "id": "94527c2d",
   "metadata": {},
   "outputs": [],
   "source": [
    "p_sort =pareto.sort_values(by=[\"sales\"],ascending = False)"
   ]
  },
  {
   "cell_type": "code",
   "execution_count": 165,
   "id": "ad2690b8",
   "metadata": {
    "scrolled": true
   },
   "outputs": [
    {
     "data": {
      "text/html": [
       "<div>\n",
       "<style scoped>\n",
       "    .dataframe tbody tr th:only-of-type {\n",
       "        vertical-align: middle;\n",
       "    }\n",
       "\n",
       "    .dataframe tbody tr th {\n",
       "        vertical-align: top;\n",
       "    }\n",
       "\n",
       "    .dataframe thead th {\n",
       "        text-align: right;\n",
       "    }\n",
       "</style>\n",
       "<table border=\"1\" class=\"dataframe\">\n",
       "  <thead>\n",
       "    <tr style=\"text-align: right;\">\n",
       "      <th></th>\n",
       "      <th>items</th>\n",
       "      <th>sales</th>\n",
       "      <th>cum_perc</th>\n",
       "    </tr>\n",
       "  </thead>\n",
       "  <tbody>\n",
       "    <tr>\n",
       "      <th>0</th>\n",
       "      <td>Snack Foods</td>\n",
       "      <td>11351.8900</td>\n",
       "      <td>21.346922</td>\n",
       "    </tr>\n",
       "    <tr>\n",
       "      <th>1</th>\n",
       "      <td>Frozen Foods</td>\n",
       "      <td>9865.1586</td>\n",
       "      <td>39.898086</td>\n",
       "    </tr>\n",
       "    <tr>\n",
       "      <th>2</th>\n",
       "      <td>Dairy</td>\n",
       "      <td>8849.1478</td>\n",
       "      <td>56.538669</td>\n",
       "    </tr>\n",
       "    <tr>\n",
       "      <th>3</th>\n",
       "      <td>Fruits and Vegetables</td>\n",
       "      <td>5815.0972</td>\n",
       "      <td>67.473802</td>\n",
       "    </tr>\n",
       "    <tr>\n",
       "      <th>4</th>\n",
       "      <td>Baking Goods</td>\n",
       "      <td>4835.0396</td>\n",
       "      <td>76.565963</td>\n",
       "    </tr>\n",
       "    <tr>\n",
       "      <th>5</th>\n",
       "      <td>Household</td>\n",
       "      <td>3420.8804</td>\n",
       "      <td>82.998836</td>\n",
       "    </tr>\n",
       "    <tr>\n",
       "      <th>6</th>\n",
       "      <td>Hard Drinks</td>\n",
       "      <td>2612.5992</td>\n",
       "      <td>87.911758</td>\n",
       "    </tr>\n",
       "    <tr>\n",
       "      <th>7</th>\n",
       "      <td>Breakfast</td>\n",
       "      <td>2265.7174</td>\n",
       "      <td>92.172378</td>\n",
       "    </tr>\n",
       "    <tr>\n",
       "      <th>8</th>\n",
       "      <td>Meat</td>\n",
       "      <td>2097.2700</td>\n",
       "      <td>96.116237</td>\n",
       "    </tr>\n",
       "    <tr>\n",
       "      <th>9</th>\n",
       "      <td>Health and Hygiene</td>\n",
       "      <td>1621.8888</td>\n",
       "      <td>99.166155</td>\n",
       "    </tr>\n",
       "    <tr>\n",
       "      <th>10</th>\n",
       "      <td>Soft Drinks</td>\n",
       "      <td>443.4228</td>\n",
       "      <td>100.000000</td>\n",
       "    </tr>\n",
       "  </tbody>\n",
       "</table>\n",
       "</div>"
      ],
      "text/plain": [
       "                    items       sales    cum_perc\n",
       "0             Snack Foods  11351.8900   21.346922\n",
       "1            Frozen Foods   9865.1586   39.898086\n",
       "2                   Dairy   8849.1478   56.538669\n",
       "3   Fruits and Vegetables   5815.0972   67.473802\n",
       "4            Baking Goods   4835.0396   76.565963\n",
       "5               Household   3420.8804   82.998836\n",
       "6             Hard Drinks   2612.5992   87.911758\n",
       "7               Breakfast   2265.7174   92.172378\n",
       "8                    Meat   2097.2700   96.116237\n",
       "9      Health and Hygiene   1621.8888   99.166155\n",
       "10            Soft Drinks    443.4228  100.000000"
      ]
     },
     "execution_count": 165,
     "metadata": {},
     "output_type": "execute_result"
    }
   ],
   "source": [
    "# calculating cumulating percentage of sales by each product type\n",
    "p_sort['cum_perc'] = p_sort['sales'].cumsum()/p_sort['sales'].sum()*100\n",
    "p_sort = p_sort.reset_index(drop =True)\n",
    "p_sort"
   ]
  },
  {
   "cell_type": "code",
   "execution_count": 39,
   "id": "a9d383c4",
   "metadata": {},
   "outputs": [
    {
     "name": "stdout",
     "output_type": "stream",
     "text": [
      "['Snack Foods', 'Frozen Foods', 'Dairy', 'Fruits and Vegetables', 'Baking Goods', 'Household', 'Hard Drinks', 'Breakfast', 'Meat', 'Health and Hygiene', 'Soft Drinks']"
     ]
    }
   ],
   "source": [
    "items = []\n",
    "for i in p_sort[\"items\"]:\n",
    "    items.append(i)\n",
    "print(items,end=\"\")"
   ]
  },
  {
   "cell_type": "code",
   "execution_count": 40,
   "id": "0a8038f3",
   "metadata": {},
   "outputs": [
    {
     "data": {
      "text/plain": [
       "(0.0, 110.0)"
      ]
     },
     "execution_count": 40,
     "metadata": {},
     "output_type": "execute_result"
    },
    {
     "data": {
      "image/png": "[encoded data removed]",
      "text/plain": [
       "<Figure size 432x288 with 2 Axes>"
      ]
     },
     "metadata": {
      "needs_background": "light"
     },
     "output_type": "display_data"
    }
   ],
   "source": [
    "fig, axes = plt.subplots()\n",
    "\n",
    "ax1 = p_sort.plot(y='sales',  kind='bar', ax=axes)\n",
    "plt.xlabel(\"Items\")\n",
    "plt.ylabel(\"Outlet_sales\")\n",
    "\n",
    "ax2 = p_sort.plot(y='cum_perc', marker='o', color=\"C1\", kind='line', ax=axes, secondary_y=True)\n",
    "plt.ylabel(\"Cumulative percentage\")\n",
    "ax2.set_ylim([0,110])"
   ]
  },
  {
   "cell_type": "markdown",
   "id": "b4827d46",
   "metadata": {},
   "source": [
    "<u>INTERPRETATION</u>:\n",
    "* 80% of the total sales is made by the first five items('Snack Foods', 'Frozen Foods', 'Dairy', 'Fruits and Vegetables', 'Baking Goods')\n",
    "* Only 20% contribution is made my the last 5 items('Hard Drinks', 'Breakfast', 'Meat', 'Health and Hygiene', 'Soft Drinks') \n"
   ]
  },
  {
   "cell_type": "markdown",
   "id": "6a116e7d",
   "metadata": {},
   "source": [
    "\n",
    "### <u><span style = \"color:BLUE\">BOX PLOT (or) WHISKERS PLOT</span></u> :"
   ]
  },
  {
   "cell_type": "markdown",
   "id": "e1db61ff",
   "metadata": {},
   "source": [
    "* In box plot, there are three dividing points that split data into four equally sized groups are called quartiles,the first quartile Q1, the median or second quartile Q2 and the third quartile Q3.Interquartile range,IQL = Q3-Q1\n",
    "* This method summarizes a set of data that is measured using a interval scale.\n",
    "* The dataset should be arranged in ascending order,before the inferences can be drawn from a dataset.\n",
    "* This helps to identify whether the distribution is skewed or not and also for knowing the potential outliers in a large dataset.\n",
    "* The interquartile range is considered to be a robust because it is not distorted by outliers like the average (or mean)."
   ]
  },
  {
   "cell_type": "code",
   "execution_count": 41,
   "id": "49891aaf",
   "metadata": {},
   "outputs": [
    {
     "data": {
      "text/html": [
       "<div>\n",
       "<style scoped>\n",
       "    .dataframe tbody tr th:only-of-type {\n",
       "        vertical-align: middle;\n",
       "    }\n",
       "\n",
       "    .dataframe tbody tr th {\n",
       "        vertical-align: top;\n",
       "    }\n",
       "\n",
       "    .dataframe thead th {\n",
       "        text-align: right;\n",
       "    }\n",
       "</style>\n",
       "<table border=\"1\" class=\"dataframe\">\n",
       "  <thead>\n",
       "    <tr style=\"text-align: right;\">\n",
       "      <th></th>\n",
       "      <th>Item_Outlet_Sales</th>\n",
       "    </tr>\n",
       "  </thead>\n",
       "  <tbody>\n",
       "    <tr>\n",
       "      <th>28</th>\n",
       "      <td>178.4344</td>\n",
       "    </tr>\n",
       "    <tr>\n",
       "      <th>23</th>\n",
       "      <td>214.3876</td>\n",
       "    </tr>\n",
       "    <tr>\n",
       "      <th>27</th>\n",
       "      <td>308.9312</td>\n",
       "    </tr>\n",
       "    <tr>\n",
       "      <th>6</th>\n",
       "      <td>343.5528</td>\n",
       "    </tr>\n",
       "    <tr>\n",
       "      <th>1</th>\n",
       "      <td>443.4228</td>\n",
       "    </tr>\n",
       "  </tbody>\n",
       "</table>\n",
       "</div>"
      ],
      "text/plain": [
       "    Item_Outlet_Sales\n",
       "28           178.4344\n",
       "23           214.3876\n",
       "27           308.9312\n",
       "6            343.5528\n",
       "1            443.4228"
      ]
     },
     "execution_count": 41,
     "metadata": {},
     "output_type": "execute_result"
    }
   ],
   "source": [
    "import seaborn as sns\n",
    "df = pd.DataFrame(data[\"Item_Outlet_Sales\"])\n",
    "df.sort_values(by =[\"Item_Outlet_Sales\"],ascending = True).head()"
   ]
  },
  {
   "cell_type": "code",
   "execution_count": 42,
   "id": "311f893b",
   "metadata": {},
   "outputs": [],
   "source": [
    "q1 = np.quantile(df,0.25)\n",
    "q2 = np.quantile(df,0.50)\n",
    "q3 =np.quantile(df, 0.75)\n",
    "IQR = q3-q1"
   ]
  },
  {
   "cell_type": "code",
   "execution_count": 43,
   "id": "f1fbba40",
   "metadata": {},
   "outputs": [
    {
     "name": "stdout",
     "output_type": "stream",
     "text": [
      "Boundary line for outliers on higher side: 4660.6\n"
     ]
    }
   ],
   "source": [
    "#point at three standard deviation on positive side of x axis,above which it will be considered an outlier\n",
    "IQR_outlierlimit1 = q3+(1.5*(q3-q1))\n",
    "print(\"Boundary line for outliers on higher side:\",IQR_outlierlimit1) #this is a higher end outlier limit"
   ]
  },
  {
   "cell_type": "code",
   "execution_count": 44,
   "id": "0158680e",
   "metadata": {},
   "outputs": [
    {
     "name": "stdout",
     "output_type": "stream",
     "text": [
      "Boundary line for outliers on lower side: -1624.5519999999997\n"
     ]
    }
   ],
   "source": [
    "#point at three standard deviation on negative side of x axis,below which it will be considered an outlier\n",
    "IQR_outlierlimit2 = q1-(1.5*(q3-q1))\n",
    "print(\"Boundary line for outliers on lower side:\",IQR_outlierlimit2) #this is a lower end outlier limit"
   ]
  },
  {
   "cell_type": "code",
   "execution_count": 45,
   "id": "8b29fbfd",
   "metadata": {},
   "outputs": [
    {
     "data": {
      "text/plain": [
       "<AxesSubplot:>"
      ]
     },
     "execution_count": 45,
     "metadata": {},
     "output_type": "execute_result"
    },
    {
     "data": {
      "image/png": "[encoded data removed]",
      "text/plain": [
       "<Figure size 432x288 with 1 Axes>"
      ]
     },
     "metadata": {
      "needs_background": "light"
     },
     "output_type": "display_data"
    }
   ],
   "source": [
    "sns.boxplot(data = df,orient=\"h\")"
   ]
  },
  {
   "cell_type": "code",
   "execution_count": 46,
   "id": "a75347a2",
   "metadata": {},
   "outputs": [
    {
     "name": "stdout",
     "output_type": "stream",
     "text": [
      "The first quartile Q1 of the Item_Outlet_Sales is : 732.38\n",
      "The second quartile Q2 of the Item_Outlet_Sales is : 1587.2672\n",
      "The third quartile Q3 of the Item_Outlet_Sales is : 2303.668\n",
      "The Interquartilerange IQR of the Item_Outlet_Sales is : 1571.288\n"
     ]
    }
   ],
   "source": [
    "print(\"The first quartile Q1 of the Item_Outlet_Sales is :\",q1)\n",
    "print(\"The second quartile Q2 of the Item_Outlet_Sales is :\",q2)\n",
    "print(\"The third quartile Q3 of the Item_Outlet_Sales is :\",q3)\n",
    "print(\"The Interquartilerange IQR of the Item_Outlet_Sales is :\",IQR)"
   ]
  },
  {
   "cell_type": "markdown",
   "id": "7bbc2b17",
   "metadata": {},
   "source": [
    "<u>INSIGHTS</u>:      \n",
    "* From the Box plot we can see the data is Right skewed since the majority of the data lies with minimal value side.    \n",
    "* We can see the data after the third quartile is widely spread which will have higher variance as it moves outer and there is outlier after the boundaryline.    \n",
    "* 50% of the data is within the range of 1571.28"
   ]
  },
  {
   "cell_type": "markdown",
   "id": "d801e48a",
   "metadata": {},
   "source": [
    "<span style = \"color:black\"> ------------------------------------------------------------------------------------------------------------------------------------------------------------------------------------------------------------------</span>"
   ]
  },
  {
   "cell_type": "markdown",
   "id": "f4f6ea6e",
   "metadata": {},
   "source": [
    "### <u><span style=\"color:green\">3.DESCRIPTIVE STATISTICS</span></u>"
   ]
  },
  {
   "cell_type": "markdown",
   "id": "a3686966",
   "metadata": {},
   "source": [
    "### <u>Areas of Interest</u>:"
   ]
  },
  {
   "cell_type": "markdown",
   "id": "4dc8edcc",
   "metadata": {},
   "source": [
    "* Measure of Central Tendencies\n",
    "* Measure of Variation or Dispersion\n",
    "* Distribution of Data\n",
    "* Outliers\n",
    "* Change in pattern with Time"
   ]
  },
  {
   "cell_type": "code",
   "execution_count": 49,
   "id": "be7d418e",
   "metadata": {},
   "outputs": [],
   "source": [
    "import numpy as np\n",
    "from scipy import stats\n",
    "import pandas as pd"
   ]
  },
  {
   "cell_type": "markdown",
   "id": "70d3c16d",
   "metadata": {},
   "source": [
    "### Variable ----->  Item_Identifier"
   ]
  },
  {
   "cell_type": "markdown",
   "id": "0ff92079",
   "metadata": {},
   "source": [
    "* This is a categorical data measured with nominal scale\n",
    "* Permissible descriptive statistics is  mode and percentage"
   ]
  },
  {
   "cell_type": "code",
   "execution_count": 168,
   "id": "7a29ada3",
   "metadata": {},
   "outputs": [
    {
     "name": "stdout",
     "output_type": "stream",
     "text": [
      "Mode : 0    FDP49\n",
      "Name: Item_Identifier, dtype: object\n",
      "Mode : FDP49    2\n",
      "Name: Item_Identifier, dtype: int64\n"
     ]
    }
   ],
   "source": [
    "#Measure of Central tendency\n",
    "\n",
    "print(\"Mode :\",(data[\"Item_Identifier\"].mode()))\n",
    "print(\"Mode :\",data[\"Item_Identifier\"].value_counts().head(1))\n"
   ]
  },
  {
   "cell_type": "markdown",
   "id": "861d9f78",
   "metadata": {},
   "source": [
    "### Variable -----> Item_Weight"
   ]
  },
  {
   "cell_type": "markdown",
   "id": "dbf7d56d",
   "metadata": {},
   "source": [
    "* This is a numerical data measured in ratio scale\n",
    "* Permissible descriptive statistics are central tendencies,dispersion,coefficient of variation,etc"
   ]
  },
  {
   "cell_type": "code",
   "execution_count": 170,
   "id": "5d2f6fa7",
   "metadata": {},
   "outputs": [
    {
     "name": "stdout",
     "output_type": "stream",
     "text": [
      "Mean : 13.132600000000004\n",
      "Median : 13.132600000000002\n",
      "Mode : 0    13.1326\n",
      "Name: Item_Weight, dtype: float64\n"
     ]
    }
   ],
   "source": [
    "#Measure of Central tendency\n",
    "\n",
    "print(\"Mean :\",data[\"Item_Weight\"].mean())\n",
    "print(\"Median :\",data[\"Item_Weight\"].median())\n",
    "print(\"Mode :\",data[\"Item_Weight\"].mode())\n"
   ]
  },
  {
   "cell_type": "code",
   "execution_count": 54,
   "id": "4195e856",
   "metadata": {},
   "outputs": [
    {
     "name": "stdout",
     "output_type": "stream",
     "text": [
      "Range : 13.28\n",
      "Mean Absolute Variation : 2.9811172413793092\n",
      "Variance : 14.297393310344827\n",
      "Standard Deviation : 3.781189404188162\n",
      "Co-efficient of Variance : 0.28792389962293546\n"
     ]
    }
   ],
   "source": [
    "#Measure of Dispersion or Variation\n",
    "\n",
    "print(\"Range :\",np.max(data[\"Item_Weight\"]) - np.min(data[\"Item_Weight\"]))\n",
    "\n",
    "print(\"Mean Absolute Variation :\",data[\"Item_Weight\"].mad())\n",
    "\n",
    "array = data[\"Item_Weight\"].to_numpy()\n",
    "x = array.mean()\n",
    "deviation = array - x\n",
    "variance = np.sum((deviation ** 2)/len(array))\n",
    "print(\"Variance :\",variance)\n",
    "\n",
    "print(\"Standard Deviation :\",np.std(array))\n",
    "\n",
    "cv = np.std(array)/np.mean(array)\n",
    "print(\"Co-efficient of Variance :\",cv)"
   ]
  },
  {
   "cell_type": "code",
   "execution_count": 55,
   "id": "51ebbdc4",
   "metadata": {},
   "outputs": [
    {
     "name": "stdout",
     "output_type": "stream",
     "text": [
      "Quartile Q1 : 10.395\n",
      "Quartile Q2 : 13.133\n",
      "Quartile Q3 : 16.2\n",
      "InterQuartileRange : 5.805\n",
      "Boundary line for outliers on higher side: 24.9075\n",
      "Boundary line for outliers on lower side: 1.6875\n"
     ]
    }
   ],
   "source": [
    "#Quartliles and Outlier limit\n",
    "\n",
    "print(\"Quartile Q1 :\",round(np.quantile(data[\"Item_Weight\"],0.25),3))\n",
    "print(\"Quartile Q2 :\",round(np.quantile(data[\"Item_Weight\"],0.5),3))\n",
    "print(\"Quartile Q3 :\",round(np.quantile(data[\"Item_Weight\"],0.75),3))\n",
    "print(\"InterQuartileRange :\",np.quantile(data[\"Item_Weight\"],0.75)-np.quantile(data[\"Item_Weight\"],0.25))\n",
    "\n",
    "q1 = np.quantile(data[\"Item_Weight\"],0.25)\n",
    "q2 = np.quantile(data[\"Item_Weight\"],0.50)\n",
    "q3 =np.quantile(data[\"Item_Weight\"], 0.75)\n",
    "IQR = q3-q1\n",
    "\n",
    "IQR_outlierlimit1 = q3+(1.5*(q3-q1))\n",
    "print(\"Boundary line for outliers on higher side:\",IQR_outlierlimit1)\n",
    "IQR_outlierlimit2 = q1-(1.5*(q3-q1))\n",
    "print(\"Boundary line for outliers on lower side:\",IQR_outlierlimit2)\n"
   ]
  },
  {
   "cell_type": "code",
   "execution_count": 56,
   "id": "02d82fc8",
   "metadata": {},
   "outputs": [
    {
     "data": {
      "text/plain": [
       "-0.11539609946066923"
      ]
     },
     "execution_count": 56,
     "metadata": {},
     "output_type": "execute_result"
    },
    {
     "data": {
      "image/png": "[encoded data removed]",
      "text/plain": [
       "<Figure size 360x360 with 1 Axes>"
      ]
     },
     "metadata": {
      "needs_background": "light"
     },
     "output_type": "display_data"
    }
   ],
   "source": [
    "#Data distribution\n",
    "sns.displot(data[\"Item_Weight\"],kind=\"kde\")\n",
    "#Negatively skewed\n",
    "stats.skew(data[\"Item_Weight\"])\n",
    "# therefore its not necessary to calculate kurtosis to identify the symmetric dispersion of data."
   ]
  },
  {
   "cell_type": "markdown",
   "id": "4b7f78e4",
   "metadata": {},
   "source": [
    "### Variable -----> Item_Fat_Content"
   ]
  },
  {
   "cell_type": "markdown",
   "id": "e06eb7d3",
   "metadata": {},
   "source": [
    "*This is a categorical data measured in nominal scale  \n",
    "*Permissible descriptive statistics are percentage and mode  "
   ]
  },
  {
   "cell_type": "code",
   "execution_count": 59,
   "id": "506925c4",
   "metadata": {},
   "outputs": [
    {
     "name": "stdout",
     "output_type": "stream",
     "text": [
      "Mode : 0    Regular\n",
      "Name: Item_Fat_Content, dtype: object\n"
     ]
    },
    {
     "data": {
      "text/plain": [
       "Regular    16\n",
       "Low Fat    13\n",
       "Name: Item_Fat_Content, dtype: int64"
      ]
     },
     "execution_count": 59,
     "metadata": {},
     "output_type": "execute_result"
    }
   ],
   "source": [
    "print(\"Mode :\",(data[\"Item_Fat_Content\"].mode()))\n",
    "data[\"Item_Fat_Content\"].value_counts()               "
   ]
  },
  {
   "cell_type": "code",
   "execution_count": 60,
   "id": "9ef969af",
   "metadata": {},
   "outputs": [
    {
     "data": {
      "text/plain": [
       "55.172413793103445"
      ]
     },
     "execution_count": 60,
     "metadata": {},
     "output_type": "execute_result"
    }
   ],
   "source": [
    "16/len(data[\"Item_Fat_Content\"]) *100"
   ]
  },
  {
   "cell_type": "code",
   "execution_count": 171,
   "id": "6ee92e2c",
   "metadata": {},
   "outputs": [],
   "source": [
    "#Regular fat item is available the most in dataset.\n",
    "#55% of the item in the dataset has regular fat and the rest has low fat."
   ]
  },
  {
   "cell_type": "markdown",
   "id": "c98f31df",
   "metadata": {},
   "source": [
    "### Variable -----> Item_Visibility"
   ]
  },
  {
   "cell_type": "markdown",
   "id": "1d835332",
   "metadata": {},
   "source": [
    "\n",
    "* This is a numerical data measured in ratio scale\n",
    "* Permissible descriptive statistics are central tendencies,dispersion,coefficient of variation,etc\n"
   ]
  },
  {
   "cell_type": "code",
   "execution_count": 172,
   "id": "908c1a26",
   "metadata": {},
   "outputs": [
    {
     "name": "stdout",
     "output_type": "stream",
     "text": [
      "Mean : 0.05096373641379309\n",
      "Median : 0.035399923\n",
      "Mode : 0    0.0\n",
      "Name: Item_Visibility, dtype: float64\n"
     ]
    }
   ],
   "source": [
    "#Measure of Central tendency\n",
    "\n",
    "print(\"Mean :\",data[\"Item_Visibility\"].mean())\n",
    "print(\"Median :\",data[\"Item_Visibility\"].median())\n",
    "print(\"Mode :\",data[\"Item_Visibility\"].mode())\n"
   ]
  },
  {
   "cell_type": "code",
   "execution_count": 64,
   "id": "0c0769c1",
   "metadata": {},
   "outputs": [
    {
     "name": "stdout",
     "output_type": "stream",
     "text": [
      "Range : 0.161466534\n",
      "Mean Absolute Variation : 0.037445808002378116\n",
      "Variance : 0.0019760638011398495\n",
      "Standard Deviation : 0.044452939173240835\n",
      "Co-efficient of Variance : 0.872246469770412\n"
     ]
    }
   ],
   "source": [
    "#Measure of Dispersion or Variation\n",
    "\n",
    "print(\"Range :\",np.max(data[\"Item_Visibility\"]) - np.min(data[\"Item_Visibility\"]))\n",
    "\n",
    "print(\"Mean Absolute Variation :\",data[\"Item_Visibility\"].mad())\n",
    "\n",
    "array = data[\"Item_Visibility\"].to_numpy()\n",
    "x = array.mean()\n",
    "deviation = array - x\n",
    "variance = np.sum((deviation ** 2)/len(array))\n",
    "print(\"Variance :\",variance)\n",
    "\n",
    "print(\"Standard Deviation :\",np.std(array))\n",
    "\n",
    "cv = np.std(array)/np.mean(array)\n",
    "print(\"Co-efficient of Variance :\",cv)"
   ]
  },
  {
   "cell_type": "code",
   "execution_count": 65,
   "id": "66b1c9e1",
   "metadata": {},
   "outputs": [
    {
     "name": "stdout",
     "output_type": "stream",
     "text": [
      "Quartile Q1 : 0.017\n",
      "Quartile Q2 : 0.035\n",
      "Quartile Q3 : 0.069\n",
      "InterQuartileRange : -10.325803623999999\n",
      "Boundary line for outliers on higher side: 0.147960269\n",
      "Boundary line for outliers on lower side: -0.062076779\n"
     ]
    }
   ],
   "source": [
    "#Quartliles and Outlier limit\n",
    "\n",
    "print(\"Quartile Q1 :\",round(np.quantile(data[\"Item_Visibility\"],0.25),3))\n",
    "print(\"Quartile Q2 :\",round(np.quantile(data[\"Item_Visibility\"],0.5),3))\n",
    "print(\"Quartile Q3 :\",round(np.quantile(data[\"Item_Visibility\"],0.75),3))\n",
    "print(\"InterQuartileRange :\",np.quantile(data[\"Item_Visibility\"],0.75)-np.quantile(data[\"Item_Weight\"],0.25))\n",
    "\n",
    "q1 = np.quantile(data[\"Item_Visibility\"],0.25)\n",
    "q2 = np.quantile(data[\"Item_Visibility\"],0.50)\n",
    "q3 =np.quantile(data[\"Item_Visibility\"], 0.75)\n",
    "IQR = q3-q1\n",
    "\n",
    "IQR_outlierlimit1 = q3+(1.5*(q3-q1))\n",
    "print(\"Boundary line for outliers on higher side:\",IQR_outlierlimit1)\n",
    "IQR_outlierlimit2 = q1-(1.5*(q3-q1))\n",
    "print(\"Boundary line for outliers on lower side:\",IQR_outlierlimit2)\n"
   ]
  },
  {
   "cell_type": "code",
   "execution_count": 66,
   "id": "074caaa2",
   "metadata": {},
   "outputs": [
    {
     "data": {
      "text/plain": [
       "0.8039369215501241"
      ]
     },
     "execution_count": 66,
     "metadata": {},
     "output_type": "execute_result"
    },
    {
     "data": {
      "image/png": "[encoded data removed]",
      "text/plain": [
       "<Figure size 360x360 with 1 Axes>"
      ]
     },
     "metadata": {
      "needs_background": "light"
     },
     "output_type": "display_data"
    }
   ],
   "source": [
    "#Data distribution\n",
    "sns.displot(data[\"Item_Visibility\"],kind=\"kde\")\n",
    "#Positively skewed\n",
    "stats.skew(data[\"Item_Visibility\"])\n",
    "# data is skewed and therefore its not necessary to calculate kurtosis to identify the symmetric dispersion of data"
   ]
  },
  {
   "cell_type": "markdown",
   "id": "d89d2510",
   "metadata": {},
   "source": [
    "### Variable -----> Item_Type"
   ]
  },
  {
   "cell_type": "markdown",
   "id": "5a30caf8",
   "metadata": {},
   "source": [
    "\n",
    "* This is a Categorical data measured in Nominal scale\n",
    "* Permissible descriptive statistics is mode and percentage.\n"
   ]
  },
  {
   "cell_type": "code",
   "execution_count": 68,
   "id": "2316e57c",
   "metadata": {},
   "outputs": [
    {
     "name": "stdout",
     "output_type": "stream",
     "text": [
      "Mode : 0    Snack Foods\n",
      "Name: Item_Type, dtype: object\n",
      "Mode : Snack Foods    5\n",
      "Name: Item_Type, dtype: int64\n"
     ]
    }
   ],
   "source": [
    "#Measure of Central tendency\n",
    "\n",
    "print(\"Mode :\",(data[\"Item_Type\"].mode()))\n",
    "print(\"Mode :\",data[\"Item_Type\"].value_counts().head(1))\n"
   ]
  },
  {
   "cell_type": "code",
   "execution_count": 173,
   "id": "f30dbe2d",
   "metadata": {},
   "outputs": [
    {
     "data": {
      "text/plain": [
       "17.24137931034483"
      ]
     },
     "execution_count": 173,
     "metadata": {},
     "output_type": "execute_result"
    }
   ],
   "source": [
    "# percentage\n",
    "5/len(data[\"Item_Type\"]) *100"
   ]
  },
  {
   "cell_type": "code",
   "execution_count": null,
   "id": "0aac756b",
   "metadata": {},
   "outputs": [],
   "source": [
    "# The Snack Foods are in majority inside dataset"
   ]
  },
  {
   "cell_type": "markdown",
   "id": "18cec4e5",
   "metadata": {},
   "source": [
    "### Variable -----> Item_MRP"
   ]
  },
  {
   "cell_type": "markdown",
   "id": "c62bb8a2",
   "metadata": {},
   "source": [
    "\n",
    "* This is a numerical data measured in ratio scale\n",
    "* Permissible descriptive statistics are central tendencies,dispersion,coefficient of variation,etc\n"
   ]
  },
  {
   "cell_type": "code",
   "execution_count": 101,
   "id": "f379667a",
   "metadata": {},
   "outputs": [
    {
     "name": "stdout",
     "output_type": "stream",
     "text": [
      "Mode : 0    45.5\n",
      "Name: Item_MRP, dtype: float64\n",
      "Median : 113.3\n",
      "Mean : 118.47931034482761\n"
     ]
    }
   ],
   "source": [
    "#Measure of Central tendencies\n",
    "\n",
    "print(\"Mode :\",data[\"Item_MRP\"].mode())\n",
    "print(\"Median :\",data[\"Item_MRP\"].median())\n",
    "print(\"Mean :\",data[\"Item_MRP\"].mean())\n"
   ]
  },
  {
   "cell_type": "code",
   "execution_count": 71,
   "id": "ff489357",
   "metadata": {},
   "outputs": [
    {
     "name": "stdout",
     "output_type": "stream",
     "text": [
      "Range : 211.8\n",
      "Mean Absolute Variation : 56.14958382877526\n",
      "Variance : 4382.987847800239\n",
      "Standard Deviation : 66.20413769395563\n",
      "Co-efficient of Variance : 0.5587822675644556\n"
     ]
    }
   ],
   "source": [
    "#Measure of Dispersion or Variation\n",
    "\n",
    "print(\"Range :\",np.max(data[\"Item_MRP\"]) - np.min(data[\"Item_MRP\"]))\n",
    "\n",
    "print(\"Mean Absolute Variation :\",data[\"Item_MRP\"].mad())\n",
    "\n",
    "array = data[\"Item_MRP\"].to_numpy()\n",
    "x = array.mean()\n",
    "deviation = array - x\n",
    "variance = np.sum((deviation ** 2)/len(array))\n",
    "print(\"Variance :\",variance)\n",
    "\n",
    "print(\"Standard Deviation :\",np.std(array))\n",
    "\n",
    "cv = np.std(array)/np.mean(array)\n",
    "print(\"Co-efficient of Variance :\",cv)\n"
   ]
  },
  {
   "cell_type": "code",
   "execution_count": 72,
   "id": "de2829c5",
   "metadata": {},
   "outputs": [
    {
     "name": "stdout",
     "output_type": "stream",
     "text": [
      "Quartile Q1 : 53.9\n",
      "Quartile Q2 : 113.3\n",
      "Quartile Q3 : 165.0\n",
      "InterQuartileRange : 111.1\n",
      "Boundary line for outliers on higher side: 331.65\n",
      "Boundary line for outliers on lower side: -112.74999999999997\n"
     ]
    }
   ],
   "source": [
    "#Quartliles and Outlier limit\n",
    "\n",
    "print(\"Quartile Q1 :\",round(np.quantile(data[\"Item_MRP\"],0.25),3))\n",
    "print(\"Quartile Q2 :\",round(np.quantile(data[\"Item_MRP\"],0.5),3))\n",
    "print(\"Quartile Q3 :\",round(np.quantile(data[\"Item_MRP\"],0.75),3))\n",
    "print(\"InterQuartileRange :\",np.quantile(data[\"Item_MRP\"],0.75)-np.quantile(data[\"Item_MRP\"],0.25))\n",
    "\n",
    "q1 = np.quantile(data[\"Item_MRP\"],0.25)\n",
    "q2 = np.quantile(data[\"Item_MRP\"],0.50)\n",
    "q3 =np.quantile(data[\"Item_MRP\"], 0.75)\n",
    "IQR = q3-q1\n",
    "\n",
    "IQR_outlierlimit1 = q3+(1.5*(q3-q1))\n",
    "print(\"Boundary line for outliers on higher side:\",IQR_outlierlimit1)\n",
    "IQR_outlierlimit2 = q1-(1.5*(q3-q1))\n",
    "print(\"Boundary line for outliers on lower side:\",IQR_outlierlimit2)\n"
   ]
  },
  {
   "cell_type": "code",
   "execution_count": 174,
   "id": "c2cb79e6",
   "metadata": {},
   "outputs": [
    {
     "data": {
      "text/plain": [
       "0.46821547522855783"
      ]
     },
     "execution_count": 174,
     "metadata": {},
     "output_type": "execute_result"
    },
    {
     "data": {
      "image/png": "[encoded data removed]",
      "text/plain": [
       "<Figure size 360x360 with 1 Axes>"
      ]
     },
     "metadata": {
      "needs_background": "light"
     },
     "output_type": "display_data"
    }
   ],
   "source": [
    "#Data distribution\n",
    "sns.displot(data[\"Item_MRP\"],kind=\"kde\")\n",
    "#Positively skewed\n",
    "stats.skew(data[\"Item_MRP\"])\n",
    "# data is skewed and therefore its not necessary to calculate kurtosis to identify the symmetric dispersion of data"
   ]
  },
  {
   "cell_type": "markdown",
   "id": "a2504f10",
   "metadata": {},
   "source": [
    "### Variable -----> Outlet_Identifier"
   ]
  },
  {
   "cell_type": "markdown",
   "id": "5f4d5235",
   "metadata": {},
   "source": [
    "* This is a Categorical data measured in Nominal scale.\n",
    "* Permissible descriptive statistics is mode and percentage."
   ]
  },
  {
   "cell_type": "code",
   "execution_count": 176,
   "id": "18f54176",
   "metadata": {},
   "outputs": [
    {
     "name": "stdout",
     "output_type": "stream",
     "text": [
      "0    OUT013\n",
      "1    OUT049\n",
      "Name: Outlet_Identifier, dtype: object\n"
     ]
    },
    {
     "data": {
      "text/plain": [
       "OUT049    5\n",
       "OUT013    5\n",
       "OUT046    4\n",
       "OUT018    3\n",
       "OUT027    3\n",
       "OUT035    3\n",
       "OUT010    2\n",
       "OUT017    2\n",
       "OUT045    1\n",
       "OUT019    1\n",
       "Name: Outlet_Identifier, dtype: int64"
      ]
     },
     "execution_count": 176,
     "metadata": {},
     "output_type": "execute_result"
    }
   ],
   "source": [
    "print(data[\"Outlet_Identifier\"].mode())\n",
    "data[\"Outlet_Identifier\"].value_counts()"
   ]
  },
  {
   "cell_type": "code",
   "execution_count": 187,
   "id": "eddf1668",
   "metadata": {},
   "outputs": [
    {
     "data": {
      "text/plain": [
       "11"
      ]
     },
     "execution_count": 187,
     "metadata": {},
     "output_type": "execute_result"
    }
   ],
   "source": [
    "data[\"Item_Type\"].nunique()"
   ]
  },
  {
   "cell_type": "code",
   "execution_count": 181,
   "id": "84111422",
   "metadata": {},
   "outputs": [
    {
     "name": "stdout",
     "output_type": "stream",
     "text": [
      "% of items sold by Out049 and Out013 :  45.45\n"
     ]
    }
   ],
   "source": [
    "#percentage:\n",
    "print(\"% of items sold by Out049 and Out013 : \",round(5/11 * 100,2))"
   ]
  },
  {
   "cell_type": "code",
   "execution_count": 183,
   "id": "3078c602",
   "metadata": {},
   "outputs": [],
   "source": [
    "#Out of the total number of items 45% of the items are sold by Out049 & Out013"
   ]
  },
  {
   "cell_type": "markdown",
   "id": "bee6f6ee",
   "metadata": {},
   "source": [
    "### Variable -----> Outlet_Establishment_Year"
   ]
  },
  {
   "cell_type": "markdown",
   "id": "50eb49be",
   "metadata": {},
   "source": [
    " \n",
    "* This is a Numerical data can be measured in interval,nominal or ordinal scale depending on the possibilty.\n",
    "* Year has no true zero\n",
    "* The interval between the value is meaningful but not the value itself\n",
    "* Permissible descriptive statistics here is mode,percentage and range."
   ]
  },
  {
   "cell_type": "code",
   "execution_count": 190,
   "id": "8c9694aa",
   "metadata": {},
   "outputs": [
    {
     "name": "stdout",
     "output_type": "stream",
     "text": [
      "Mode : 0    1987\n",
      "1    1999\n",
      "Name: Outlet_Establishment_Year, dtype: int64\n"
     ]
    }
   ],
   "source": [
    "print(\"Mode :\",data[\"Outlet_Establishment_Year\"].mode())\n",
    "\n",
    "# identifying other central tendency such as mean and median gives no meaning\n",
    "# Here the mode gives an insight that major frequency of the shops were opened in the year 1987 & 1999."
   ]
  },
  {
   "cell_type": "code",
   "execution_count": 78,
   "id": "b3545bbb",
   "metadata": {},
   "outputs": [
    {
     "name": "stdout",
     "output_type": "stream",
     "text": [
      "Range : 24\n"
     ]
    }
   ],
   "source": [
    "#Measure of Dispersion or Variation\n",
    "\n",
    "print(\"Range :\",np.max(data[\"Outlet_Establishment_Year\"]) - np.min(data[\"Outlet_Establishment_Year\"]))\n",
    "\n",
    "# all the outlets where established between the range of 24 years"
   ]
  },
  {
   "cell_type": "code",
   "execution_count": 79,
   "id": "e96e6137",
   "metadata": {},
   "outputs": [
    {
     "name": "stdout",
     "output_type": "stream",
     "text": [
      "Quartile Q1 : 1987.0\n",
      "Quartile Q2 : 1998.0\n",
      "Quartile Q3 : 2004.0\n"
     ]
    }
   ],
   "source": [
    "#Quartliles \n",
    "\n",
    "print(\"Quartile Q1 :\",round(np.quantile(data[\"Outlet_Establishment_Year\"],0.25),3))\n",
    "print(\"Quartile Q2 :\",round(np.quantile(data[\"Outlet_Establishment_Year\"],0.5),3))\n",
    "print(\"Quartile Q3 :\",round(np.quantile(data[\"Outlet_Establishment_Year\"],0.75),3))\n"
   ]
  },
  {
   "cell_type": "code",
   "execution_count": 194,
   "id": "3d95f87f",
   "metadata": {},
   "outputs": [],
   "source": [
    "# 25% of the shops are established before 1987\n",
    "# 50% of the shops are established between 1987 and 2004\n",
    "# 25% of the shops are established after 2004"
   ]
  },
  {
   "cell_type": "markdown",
   "id": "0d24eb3b",
   "metadata": {},
   "source": [
    "### Variable -----> Outlet_Size"
   ]
  },
  {
   "cell_type": "markdown",
   "id": "e40045a3",
   "metadata": {},
   "source": [
    "* This is a Catergorical data measured in ordinal scale and has a meaningful order.\n",
    "* Permissible descriptive statistics is mode,median,percentile,percentage."
   ]
  },
  {
   "cell_type": "code",
   "execution_count": 199,
   "id": "88a25e30",
   "metadata": {},
   "outputs": [
    {
     "data": {
      "text/plain": [
       "0    2\n",
       "1    2\n",
       "2    2\n",
       "3    2\n",
       "4    3\n",
       "Name: Outlet_Size, dtype: int32"
      ]
     },
     "execution_count": 199,
     "metadata": {},
     "output_type": "execute_result"
    }
   ],
   "source": [
    "# assigning dummy values to categorical variables\n",
    "data[\"Outlet_Size\"].astype(int).head()"
   ]
  },
  {
   "cell_type": "code",
   "execution_count": 200,
   "id": "6ba27d11",
   "metadata": {},
   "outputs": [
    {
     "name": "stdout",
     "output_type": "stream",
     "text": [
      "Mode : 0    2.0\n",
      "Name: Outlet_Size, dtype: float64\n",
      "\n",
      "Median : 2.0\n",
      "\n",
      "2.0    16\n",
      "1.0     8\n",
      "3.0     5\n",
      "Name: Outlet_Size, dtype: int64\n"
     ]
    }
   ],
   "source": [
    "#  Order in terms of size: 1<2<3\n",
    "\n",
    "print(\"Mode :\",data[\"Outlet_Size\"].mode())\n",
    "print()\n",
    "print(\"Median :\",data[\"Outlet_Size\"].median())\n",
    "print()\n",
    "print(data[\"Outlet_Size\"].value_counts())"
   ]
  },
  {
   "cell_type": "code",
   "execution_count": 82,
   "id": "589a0bb7",
   "metadata": {},
   "outputs": [
    {
     "name": "stdout",
     "output_type": "stream",
     "text": [
      "Quartile Q1 or 25th Percentile : 1.0\n",
      "Quartile Q2 or 50th Percentile : 2.0\n",
      "Quartile Q3 or 75th Percentile : 2.0\n"
     ]
    }
   ],
   "source": [
    "#quartile\n",
    "print(\"Quartile Q1 or 25th Percentile :\",round(np.quantile(data[\"Outlet_Size\"],0.25),3))\n",
    "print(\"Quartile Q2 or 50th Percentile :\",round(np.quantile(data[\"Outlet_Size\"],0.5),3))\n",
    "print(\"Quartile Q3 or 75th Percentile :\",round(np.quantile(data[\"Outlet_Size\"],0.75),3))"
   ]
  },
  {
   "cell_type": "code",
   "execution_count": 83,
   "id": "6eb367c9",
   "metadata": {},
   "outputs": [
    {
     "name": "stdout",
     "output_type": "stream",
     "text": [
      "Percentage of smaller sized shops : 27.586206896551722\n",
      "Percentage of medium sized shops  : 55.172413793103445\n",
      "Percentage of higher sized shops  : 17.24137931034483\n"
     ]
    }
   ],
   "source": [
    "#percentage\n",
    "print(\"Percentage of smaller sized shops :\",8/29*100)\n",
    "print(\"Percentage of medium sized shops  :\",16/29*100)\n",
    "print(\"Percentage of higher sized shops  :\",5/29*100)"
   ]
  },
  {
   "cell_type": "markdown",
   "id": "602b205a",
   "metadata": {},
   "source": [
    "### Variable -----> Outlet_Location_Type"
   ]
  },
  {
   "cell_type": "markdown",
   "id": "af33ad3a",
   "metadata": {},
   "source": [
    "\n",
    "* This is a Catergorical data measured in ordinal scale and has a meaningful order.\n",
    "* Permissible descriptive statistics is mode,median,quartile,percentiles,percentages"
   ]
  },
  {
   "cell_type": "code",
   "execution_count": 207,
   "id": "e72db9e8",
   "metadata": {},
   "outputs": [
    {
     "name": "stdout",
     "output_type": "stream",
     "text": [
      "Mode : 0    2.0\n",
      "Name: Outlet_Location_Type, dtype: float64\n",
      "\n",
      "Median : 2.0\n"
     ]
    }
   ],
   "source": [
    "#1-Tier1,2-Tier2,3-Tier3\n",
    "data[\"Outlet_Location_Type\"].astype(int)\n",
    "print(\"Mode :\",data[\"Outlet_Location_Type\"].mode())\n",
    "print()\n",
    "print(\"Median :\",data[\"Outlet_Location_Type\"].median())"
   ]
  },
  {
   "cell_type": "code",
   "execution_count": 86,
   "id": "158efee2",
   "metadata": {},
   "outputs": [
    {
     "name": "stdout",
     "output_type": "stream",
     "text": [
      "Quartile Q1 or 25th Percentile : 1.0\n",
      "Quartile Q2 or 50th Percentile : 2.0\n",
      "Quartile Q3 or 75th Percentile : 2.0\n"
     ]
    }
   ],
   "source": [
    "#quartile\n",
    "print(\"Quartile Q1 or 25th Percentile :\",round(np.quantile(data[\"Outlet_Location_Type\"],0.25),3))\n",
    "print(\"Quartile Q2 or 50th Percentile :\",round(np.quantile(data[\"Outlet_Location_Type\"],0.5),3))\n",
    "print(\"Quartile Q3 or 75th Percentile :\",round(np.quantile(data[\"Outlet_Location_Type\"],0.75),3))"
   ]
  },
  {
   "cell_type": "code",
   "execution_count": 87,
   "id": "f516bc2b",
   "metadata": {},
   "outputs": [
    {
     "name": "stdout",
     "output_type": "stream",
     "text": [
      "Percentage of shops in Tier 1 location : 27.586206896551722\n",
      "Percentage of shops in Tier 2 location : 55.172413793103445\n",
      "Percentage of shops in Tier 3 location : 17.24137931034483\n"
     ]
    }
   ],
   "source": [
    "#percentage\n",
    "print(\"Percentage of shops in Tier 1 location :\",8/29*100)\n",
    "print(\"Percentage of shops in Tier 2 location :\",16/29*100)\n",
    "print(\"Percentage of shops in Tier 3 location :\",5/29*100)"
   ]
  },
  {
   "cell_type": "markdown",
   "id": "3c93fca2",
   "metadata": {},
   "source": [
    "### Variable -----> Outlet_Type"
   ]
  },
  {
   "cell_type": "markdown",
   "id": "8aa4c187",
   "metadata": {},
   "source": [
    "  \n",
    "*This is a categorical data measured with nominal scale  \n",
    "*Permissible descriptive statistics is  mode and percentage  "
   ]
  },
  {
   "cell_type": "code",
   "execution_count": 208,
   "id": "24b49002",
   "metadata": {},
   "outputs": [
    {
     "data": {
      "text/plain": [
       "Supermarket Type1    20\n",
       "Supermarket Type2     3\n",
       "Grocery Store         3\n",
       "Supermarket Type3     3\n",
       "Name: Outlet_Type, dtype: int64"
      ]
     },
     "execution_count": 208,
     "metadata": {},
     "output_type": "execute_result"
    }
   ],
   "source": [
    "data[\"Outlet_Type\"].value_counts()"
   ]
  },
  {
   "cell_type": "code",
   "execution_count": 209,
   "id": "b89f2611",
   "metadata": {},
   "outputs": [
    {
     "data": {
      "text/plain": [
       "0    Supermarket Type1\n",
       "Name: Outlet_Type, dtype: object"
      ]
     },
     "execution_count": 209,
     "metadata": {},
     "output_type": "execute_result"
    }
   ],
   "source": [
    "#mode\n",
    "data[\"Outlet_Type\"].mode()"
   ]
  },
  {
   "cell_type": "code",
   "execution_count": 210,
   "id": "71567772",
   "metadata": {},
   "outputs": [
    {
     "name": "stdout",
     "output_type": "stream",
     "text": [
      "Percentage of Supermarket Type1 : 68.96551724137932\n",
      "Percentage of Supermarket Type2 : 10.344827586206897\n",
      "Percentage of Supermarket Type3 : 10.344827586206897\n",
      "Percentage of Supermarket Grocery Store  : 10.344827586206897\n"
     ]
    }
   ],
   "source": [
    "#percentage\n",
    "print(\"Percentage of Supermarket Type1 :\",20/29*100)\n",
    "print(\"Percentage of Supermarket Type2 :\",3/29*100)\n",
    "print(\"Percentage of Supermarket Type3 :\",3/29*100)\n",
    "print(\"Percentage of Supermarket Grocery Store  :\",3/29*100)"
   ]
  },
  {
   "cell_type": "markdown",
   "id": "46945e60",
   "metadata": {},
   "source": [
    "### Variable -----> Item_Outlet_Sales"
   ]
  },
  {
   "cell_type": "markdown",
   "id": "0ec2b733",
   "metadata": {},
   "source": [
    "* This is a numerical data measured in ratio scale\n",
    "* Permissible descriptive statistics are central tendencies,dispersion,coefficient of variation,etc"
   ]
  },
  {
   "cell_type": "code",
   "execution_count": 213,
   "id": "0af3475a",
   "metadata": {},
   "outputs": [
    {
     "name": "stdout",
     "output_type": "stream",
     "text": [
      "Mean : 1833.7279931034484\n",
      "Median : 1587.2672\n"
     ]
    }
   ],
   "source": [
    "#Measure of Central tendency\n",
    "print(\"Mean :\",data[\"Item_Outlet_Sales\"].mean())\n",
    "print(\"Median :\",data[\"Item_Outlet_Sales\"].median())\n",
    "# the findings of mode is meaningless since all the data are unique"
   ]
  },
  {
   "cell_type": "code",
   "execution_count": 218,
   "id": "0671ee4d",
   "metadata": {},
   "outputs": [
    {
     "name": "stdout",
     "output_type": "stream",
     "text": [
      "Max : 4710.535 Min : 178.4344\n",
      "Range : 4532.1006\n",
      "Mean Absolute Variation : 1092.4139229488705\n",
      "Variance : 1757495.4882554302\n",
      "Standard Deviation : 1325.7056567185004\n",
      "Co-efficient of Variance : 0.7229565462840768\n"
     ]
    }
   ],
   "source": [
    "#Measure of Dispersion or Variation\n",
    "\n",
    "print(\"Range :\",np.max(data[\"Item_Outlet_Sales\"]) - np.min(data[\"Item_Outlet_Sales\"]))\n",
    "\n",
    "print(\"Mean Absolute Variation :\",data[\"Item_Outlet_Sales\"].mad())\n",
    "\n",
    "array = data[\"Item_Outlet_Sales\"].to_numpy()\n",
    "x = array.mean()\n",
    "deviation = array - x\n",
    "variance = np.sum((deviation ** 2)/len(array))\n",
    "print(\"Variance :\",variance)\n",
    "\n",
    "print(\"Standard Deviation :\",np.std(array))\n",
    "\n",
    "cv = np.std(array)/np.mean(array)\n",
    "print(\"Co-efficient of Variance :\",cv)\n"
   ]
  },
  {
   "cell_type": "code",
   "execution_count": 215,
   "id": "18aedc51",
   "metadata": {},
   "outputs": [
    {
     "name": "stdout",
     "output_type": "stream",
     "text": [
      "Quartile Q1 : 732.38\n",
      "Quartile Q2 : 1587.267\n",
      "Quartile Q3 : 2303.668\n",
      "InterQuartileRange : 1571.288\n",
      "Boundary line for outliers on higher side: 4660.6\n",
      "Boundary line for outliers on lower side: -1624.5519999999997\n"
     ]
    }
   ],
   "source": [
    "#Quartliles and Outlier limit\n",
    "\n",
    "print(\"Quartile Q1 :\",round(np.quantile(data[\"Item_Outlet_Sales\"],0.25),3))\n",
    "print(\"Quartile Q2 :\",round(np.quantile(data[\"Item_Outlet_Sales\"],0.5),3))\n",
    "print(\"Quartile Q3 :\",round(np.quantile(data[\"Item_Outlet_Sales\"],0.75),3))\n",
    "print(\"InterQuartileRange :\",np.quantile(data[\"Item_Outlet_Sales\"],0.75)-np.quantile(data[\"Item_Outlet_Sales\"],0.25))\n",
    "\n",
    "q1 = np.quantile(data[\"Item_Outlet_Sales\"],0.25)\n",
    "q2 = np.quantile(data[\"Item_Outlet_Sales\"],0.50)\n",
    "q3 =np.quantile(data[\"Item_Outlet_Sales\"], 0.75)\n",
    "IQR = q3-q1\n",
    "\n",
    "IQR_outlierlimit1 = q3+(1.5*(q3-q1))\n",
    "print(\"Boundary line for outliers on higher side:\",IQR_outlierlimit1)\n",
    "IQR_outlierlimit2 = q1-(1.5*(q3-q1))\n",
    "print(\"Boundary line for outliers on lower side:\",IQR_outlierlimit2)"
   ]
  },
  {
   "cell_type": "code",
   "execution_count": 220,
   "id": "d30e57b5",
   "metadata": {},
   "outputs": [
    {
     "name": "stdout",
     "output_type": "stream",
     "text": [
      "Max : 4710.535 , Min : 178.4344\n"
     ]
    }
   ],
   "source": [
    "#Here we have outliers in the dataset on the higher side\n",
    "print(\"Max :\",np.max(data[\"Item_Outlet_Sales\"]),\",\",\"Min :\",np.min(data[\"Item_Outlet_Sales\"]))"
   ]
  },
  {
   "cell_type": "code",
   "execution_count": 221,
   "id": "8cb24c3c",
   "metadata": {},
   "outputs": [
    {
     "data": {
      "text/plain": [
       "0.6832380746558615"
      ]
     },
     "execution_count": 221,
     "metadata": {},
     "output_type": "execute_result"
    },
    {
     "data": {
      "image/png": "[encoded data removed]",
      "text/plain": [
       "<Figure size 360x360 with 1 Axes>"
      ]
     },
     "metadata": {
      "needs_background": "light"
     },
     "output_type": "display_data"
    }
   ],
   "source": [
    "#Data distribution\n",
    "sns.displot(data[\"Item_Outlet_Sales\"],kind=\"kde\")\n",
    "#Positively skewed\n",
    "stats.skew(data[\"Item_Outlet_Sales\"])\n",
    "# data is skewed and therefore its not necessary to calculate kurtosis to identify the symmetric dispersion of data"
   ]
  },
  {
   "cell_type": "markdown",
   "id": "03940870",
   "metadata": {},
   "source": [
    "### Variable -----> Profit"
   ]
  },
  {
   "cell_type": "markdown",
   "id": "e845697e",
   "metadata": {},
   "source": [
    "* This is a numerical data measured in ratio scale\n",
    "* Permissible descriptive statistics are central tendencies,dispersion,coefficient of variation,etc"
   ]
  },
  {
   "cell_type": "code",
   "execution_count": 114,
   "id": "4df5c6d6",
   "metadata": {},
   "outputs": [
    {
     "name": "stdout",
     "output_type": "stream",
     "text": [
      "Mean : 13.43448275862069\n",
      "Median : 14.1\n",
      "Mode : 0    14.3\n",
      "Name: Profit, dtype: float64\n"
     ]
    }
   ],
   "source": [
    "#Measure of Central tendency\n",
    "\n",
    "print(\"Mean :\",data[\"Profit\"].mean())\n",
    "print(\"Median :\",data[\"Profit\"].median())\n",
    "print(\"Mode :\",data[\"Profit\"].mode())\n",
    "# the findings of mode is meaningless since all the data are unique"
   ]
  },
  {
   "cell_type": "code",
   "execution_count": 227,
   "id": "23d99860",
   "metadata": {},
   "outputs": [
    {
     "name": "stdout",
     "output_type": "stream",
     "text": [
      "Range : 6.200000000000001\n",
      "Mean Absolute Variation : 1.1362663495838283\n",
      "Variance : 2.7657074910820456\n",
      "Standard Deviation : 1.6630416384089863\n",
      "Co-efficient of Variance : 0.12378903365980645\n"
     ]
    }
   ],
   "source": [
    "#Measure of Dispersion or Variation\n",
    "\n",
    "print(\"Range :\",np.max(data[\"Profit\"]) - np.min(data[\"Profit\"]))\n",
    "\n",
    "print(\"Mean Absolute Variation :\",data[\"Profit\"].mad())\n",
    "\n",
    "array = data[\"Profit\"].to_numpy()\n",
    "x = array.mean()\n",
    "deviation = array - x\n",
    "variance = np.sum((deviation ** 2)/len(array))\n",
    "print(\"Variance :\",variance)\n",
    "\n",
    "print(\"Standard Deviation :\",np.std(array))\n",
    "\n",
    "cv = np.std(array)/np.mean(array)\n",
    "print(\"Co-efficient of Variance :\",cv)\n"
   ]
  },
  {
   "cell_type": "code",
   "execution_count": 228,
   "id": "3f3d3766",
   "metadata": {},
   "outputs": [
    {
     "name": "stdout",
     "output_type": "stream",
     "text": [
      "Quartile Q1 : 13.3\n",
      "Quartile Q2 : 14.1\n",
      "Quartile Q3 : 14.4\n",
      "InterQuartileRange : 1.0999999999999996\n",
      "Boundary line for outliers on higher side: 16.05\n",
      "Boundary line for outliers on lower side: 11.650000000000002\n"
     ]
    }
   ],
   "source": [
    "#Quartliles and Outlier limit\n",
    "\n",
    "print(\"Quartile Q1 :\",round(np.quantile(data[\"Profit\"],0.25),3))\n",
    "print(\"Quartile Q2 :\",round(np.quantile(data[\"Profit\"],0.5),3))\n",
    "print(\"Quartile Q3 :\",round(np.quantile(data[\"Profit\"],0.75),3))\n",
    "print(\"InterQuartileRange :\",np.quantile(data[\"Profit\"],0.75)-np.quantile(data[\"Profit\"],0.25))\n",
    "\n",
    "q1 = np.quantile(data[\"Profit\"],0.25)\n",
    "q2 = np.quantile(data[\"Profit\"],0.50)\n",
    "q3 =np.quantile(data[\"Profit\"], 0.75)\n",
    "IQR = q3-q1\n",
    "\n",
    "IQR_outlierlimit1 = q3+(1.5*(q3-q1))\n",
    "print(\"Boundary line for outliers on higher side:\",IQR_outlierlimit1)\n",
    "IQR_outlierlimit2 = q1-(1.5*(q3-q1))\n",
    "print(\"Boundary line for outliers on lower side:\",IQR_outlierlimit2)"
   ]
  },
  {
   "cell_type": "code",
   "execution_count": 229,
   "id": "2819685f",
   "metadata": {
    "scrolled": true
   },
   "outputs": [
    {
     "data": {
      "text/plain": [
       "-1.9842417343621142"
      ]
     },
     "execution_count": 229,
     "metadata": {},
     "output_type": "execute_result"
    },
    {
     "data": {
      "image/png": "[encoded data removed]",
      "text/plain": [
       "<Figure size 360x360 with 1 Axes>"
      ]
     },
     "metadata": {
      "needs_background": "light"
     },
     "output_type": "display_data"
    }
   ],
   "source": [
    "#Data distribution\n",
    "sns.displot(data[\"Profit\"],kind=\"kde\")\n",
    "#negatively skewed\n",
    "stats.skew(data[\"Profit\"])\n",
    "# data is skewed towards the higher values,i.e majority of the data lies in the higher values side.\n",
    "# therefore its not necessary to calculate kurtosis to identify the symmetric dispersion of data."
   ]
  },
  {
   "cell_type": "markdown",
   "id": "65a8c7e0",
   "metadata": {},
   "source": [
    "#### SUMMARY OF DESCRIPTIVE STATISTICS"
   ]
  },
  {
   "cell_type": "code",
   "execution_count": 230,
   "id": "c8362c85",
   "metadata": {
    "scrolled": true
   },
   "outputs": [
    {
     "data": {
      "text/html": [
       "<div>\n",
       "<style scoped>\n",
       "    .dataframe tbody tr th:only-of-type {\n",
       "        vertical-align: middle;\n",
       "    }\n",
       "\n",
       "    .dataframe tbody tr th {\n",
       "        vertical-align: top;\n",
       "    }\n",
       "\n",
       "    .dataframe thead th {\n",
       "        text-align: right;\n",
       "    }\n",
       "</style>\n",
       "<table border=\"1\" class=\"dataframe\">\n",
       "  <thead>\n",
       "    <tr style=\"text-align: right;\">\n",
       "      <th></th>\n",
       "      <th>Item_Identifier</th>\n",
       "      <th>Item_Weight</th>\n",
       "      <th>Item_Fat_Content</th>\n",
       "      <th>Item_Visibility</th>\n",
       "      <th>Item_Type</th>\n",
       "      <th>Item_MRP</th>\n",
       "      <th>Outlet_Identifier</th>\n",
       "      <th>Outlet_Establishment_Year</th>\n",
       "      <th>Outlet_Size</th>\n",
       "      <th>Outlet_Location_Type</th>\n",
       "      <th>Outlet_Type</th>\n",
       "      <th>Item_Outlet_Sales</th>\n",
       "      <th>Profit</th>\n",
       "    </tr>\n",
       "  </thead>\n",
       "  <tbody>\n",
       "    <tr>\n",
       "      <th>count</th>\n",
       "      <td>29</td>\n",
       "      <td>29.000000</td>\n",
       "      <td>29</td>\n",
       "      <td>29.000000</td>\n",
       "      <td>29</td>\n",
       "      <td>29.000000</td>\n",
       "      <td>29</td>\n",
       "      <td>29.000000</td>\n",
       "      <td>29.000000</td>\n",
       "      <td>29.000000</td>\n",
       "      <td>29</td>\n",
       "      <td>29.000000</td>\n",
       "      <td>29.000000</td>\n",
       "    </tr>\n",
       "    <tr>\n",
       "      <th>unique</th>\n",
       "      <td>28</td>\n",
       "      <td>NaN</td>\n",
       "      <td>2</td>\n",
       "      <td>NaN</td>\n",
       "      <td>11</td>\n",
       "      <td>NaN</td>\n",
       "      <td>10</td>\n",
       "      <td>NaN</td>\n",
       "      <td>NaN</td>\n",
       "      <td>NaN</td>\n",
       "      <td>4</td>\n",
       "      <td>NaN</td>\n",
       "      <td>NaN</td>\n",
       "    </tr>\n",
       "    <tr>\n",
       "      <th>top</th>\n",
       "      <td>FDP49</td>\n",
       "      <td>NaN</td>\n",
       "      <td>Regular</td>\n",
       "      <td>NaN</td>\n",
       "      <td>Snack Foods</td>\n",
       "      <td>NaN</td>\n",
       "      <td>OUT049</td>\n",
       "      <td>NaN</td>\n",
       "      <td>NaN</td>\n",
       "      <td>NaN</td>\n",
       "      <td>Supermarket Type1</td>\n",
       "      <td>NaN</td>\n",
       "      <td>NaN</td>\n",
       "    </tr>\n",
       "    <tr>\n",
       "      <th>freq</th>\n",
       "      <td>2</td>\n",
       "      <td>NaN</td>\n",
       "      <td>16</td>\n",
       "      <td>NaN</td>\n",
       "      <td>5</td>\n",
       "      <td>NaN</td>\n",
       "      <td>5</td>\n",
       "      <td>NaN</td>\n",
       "      <td>NaN</td>\n",
       "      <td>NaN</td>\n",
       "      <td>20</td>\n",
       "      <td>NaN</td>\n",
       "      <td>NaN</td>\n",
       "    </tr>\n",
       "    <tr>\n",
       "      <th>mean</th>\n",
       "      <td>NaN</td>\n",
       "      <td>13.132600</td>\n",
       "      <td>NaN</td>\n",
       "      <td>0.050964</td>\n",
       "      <td>NaN</td>\n",
       "      <td>118.479310</td>\n",
       "      <td>NaN</td>\n",
       "      <td>1996.862069</td>\n",
       "      <td>1.896552</td>\n",
       "      <td>1.896552</td>\n",
       "      <td>NaN</td>\n",
       "      <td>1833.727993</td>\n",
       "      <td>13.434483</td>\n",
       "    </tr>\n",
       "    <tr>\n",
       "      <th>std</th>\n",
       "      <td>NaN</td>\n",
       "      <td>3.848118</td>\n",
       "      <td>NaN</td>\n",
       "      <td>0.045240</td>\n",
       "      <td>NaN</td>\n",
       "      <td>67.375983</td>\n",
       "      <td>NaN</td>\n",
       "      <td>8.240684</td>\n",
       "      <td>0.673203</td>\n",
       "      <td>0.673203</td>\n",
       "      <td>NaN</td>\n",
       "      <td>1349.171295</td>\n",
       "      <td>1.692478</td>\n",
       "    </tr>\n",
       "    <tr>\n",
       "      <th>min</th>\n",
       "      <td>NaN</td>\n",
       "      <td>5.920000</td>\n",
       "      <td>NaN</td>\n",
       "      <td>0.000000</td>\n",
       "      <td>NaN</td>\n",
       "      <td>39.100000</td>\n",
       "      <td>NaN</td>\n",
       "      <td>1985.000000</td>\n",
       "      <td>1.000000</td>\n",
       "      <td>1.000000</td>\n",
       "      <td>NaN</td>\n",
       "      <td>178.434400</td>\n",
       "      <td>8.600000</td>\n",
       "    </tr>\n",
       "    <tr>\n",
       "      <th>25%</th>\n",
       "      <td>NaN</td>\n",
       "      <td>10.395000</td>\n",
       "      <td>NaN</td>\n",
       "      <td>0.016687</td>\n",
       "      <td>NaN</td>\n",
       "      <td>53.900000</td>\n",
       "      <td>NaN</td>\n",
       "      <td>1987.000000</td>\n",
       "      <td>1.000000</td>\n",
       "      <td>1.000000</td>\n",
       "      <td>NaN</td>\n",
       "      <td>732.380000</td>\n",
       "      <td>13.300000</td>\n",
       "    </tr>\n",
       "    <tr>\n",
       "      <th>50%</th>\n",
       "      <td>NaN</td>\n",
       "      <td>13.132600</td>\n",
       "      <td>NaN</td>\n",
       "      <td>0.035400</td>\n",
       "      <td>NaN</td>\n",
       "      <td>113.300000</td>\n",
       "      <td>NaN</td>\n",
       "      <td>1998.000000</td>\n",
       "      <td>2.000000</td>\n",
       "      <td>2.000000</td>\n",
       "      <td>NaN</td>\n",
       "      <td>1587.267200</td>\n",
       "      <td>14.100000</td>\n",
       "    </tr>\n",
       "    <tr>\n",
       "      <th>75%</th>\n",
       "      <td>NaN</td>\n",
       "      <td>16.200000</td>\n",
       "      <td>NaN</td>\n",
       "      <td>0.069196</td>\n",
       "      <td>NaN</td>\n",
       "      <td>165.000000</td>\n",
       "      <td>NaN</td>\n",
       "      <td>2004.000000</td>\n",
       "      <td>2.000000</td>\n",
       "      <td>2.000000</td>\n",
       "      <td>NaN</td>\n",
       "      <td>2303.668000</td>\n",
       "      <td>14.400000</td>\n",
       "    </tr>\n",
       "    <tr>\n",
       "      <th>max</th>\n",
       "      <td>NaN</td>\n",
       "      <td>19.200000</td>\n",
       "      <td>NaN</td>\n",
       "      <td>0.161467</td>\n",
       "      <td>NaN</td>\n",
       "      <td>250.900000</td>\n",
       "      <td>NaN</td>\n",
       "      <td>2009.000000</td>\n",
       "      <td>3.000000</td>\n",
       "      <td>3.000000</td>\n",
       "      <td>NaN</td>\n",
       "      <td>4710.535000</td>\n",
       "      <td>14.800000</td>\n",
       "    </tr>\n",
       "  </tbody>\n",
       "</table>\n",
       "</div>"
      ],
      "text/plain": [
       "       Item_Identifier  Item_Weight Item_Fat_Content  Item_Visibility  \\\n",
       "count               29    29.000000               29        29.000000   \n",
       "unique              28          NaN                2              NaN   \n",
       "top              FDP49          NaN          Regular              NaN   \n",
       "freq                 2          NaN               16              NaN   \n",
       "mean               NaN    13.132600              NaN         0.050964   \n",
       "std                NaN     3.848118              NaN         0.045240   \n",
       "min                NaN     5.920000              NaN         0.000000   \n",
       "25%                NaN    10.395000              NaN         0.016687   \n",
       "50%                NaN    13.132600              NaN         0.035400   \n",
       "75%                NaN    16.200000              NaN         0.069196   \n",
       "max                NaN    19.200000              NaN         0.161467   \n",
       "\n",
       "          Item_Type    Item_MRP Outlet_Identifier  Outlet_Establishment_Year  \\\n",
       "count            29   29.000000                29                  29.000000   \n",
       "unique           11         NaN                10                        NaN   \n",
       "top     Snack Foods         NaN            OUT049                        NaN   \n",
       "freq              5         NaN                 5                        NaN   \n",
       "mean            NaN  118.479310               NaN                1996.862069   \n",
       "std             NaN   67.375983               NaN                   8.240684   \n",
       "min             NaN   39.100000               NaN                1985.000000   \n",
       "25%             NaN   53.900000               NaN                1987.000000   \n",
       "50%             NaN  113.300000               NaN                1998.000000   \n",
       "75%             NaN  165.000000               NaN                2004.000000   \n",
       "max             NaN  250.900000               NaN                2009.000000   \n",
       "\n",
       "        Outlet_Size  Outlet_Location_Type        Outlet_Type  \\\n",
       "count     29.000000             29.000000                 29   \n",
       "unique          NaN                   NaN                  4   \n",
       "top             NaN                   NaN  Supermarket Type1   \n",
       "freq            NaN                   NaN                 20   \n",
       "mean       1.896552              1.896552                NaN   \n",
       "std        0.673203              0.673203                NaN   \n",
       "min        1.000000              1.000000                NaN   \n",
       "25%        1.000000              1.000000                NaN   \n",
       "50%        2.000000              2.000000                NaN   \n",
       "75%        2.000000              2.000000                NaN   \n",
       "max        3.000000              3.000000                NaN   \n",
       "\n",
       "        Item_Outlet_Sales     Profit  \n",
       "count           29.000000  29.000000  \n",
       "unique                NaN        NaN  \n",
       "top                   NaN        NaN  \n",
       "freq                  NaN        NaN  \n",
       "mean          1833.727993  13.434483  \n",
       "std           1349.171295   1.692478  \n",
       "min            178.434400   8.600000  \n",
       "25%            732.380000  13.300000  \n",
       "50%           1587.267200  14.100000  \n",
       "75%           2303.668000  14.400000  \n",
       "max           4710.535000  14.800000  "
      ]
     },
     "execution_count": 230,
     "metadata": {},
     "output_type": "execute_result"
    }
   ],
   "source": [
    "data.describe(include = \"all\")"
   ]
  },
  {
   "cell_type": "markdown",
   "id": "7e3f52f1",
   "metadata": {},
   "source": [
    "*The mean and standard deviation of [\"Outlet_Establishment_Year\",\"Outlet_Size\",\"Outlet_Location_Type\"]  shown in the summary of\n",
    "descriptive statistics are meaningless."
   ]
  },
  {
   "cell_type": "code",
   "execution_count": null,
   "id": "47b6e34a",
   "metadata": {},
   "outputs": [],
   "source": []
  }
 ],
 "metadata": {
  "kernelspec": {
   "display_name": "Python 3 (ipykernel)",
   "language": "python",
   "name": "python3"
  },
  "language_info": {
   "codemirror_mode": {
    "name": "ipython",
    "version": 3
   },
   "file_extension": ".py",
   "mimetype": "text/x-python",
   "name": "python",
   "nbconvert_exporter": "python",
   "pygments_lexer": "ipython3",
   "version": "3.9.12"
  }
 },
 "nbformat": 4,
 "nbformat_minor": 5
}
